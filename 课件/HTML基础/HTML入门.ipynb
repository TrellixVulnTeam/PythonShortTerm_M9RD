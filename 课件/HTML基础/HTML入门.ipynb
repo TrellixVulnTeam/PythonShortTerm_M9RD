{
 "cells": [
  {
   "cell_type": "markdown",
   "metadata": {},
   "source": [
    "### 什么是HTML\n",
    "\n",
    "HTML是英文Hyper Text Mark-up Language(超文本标记语言)的缩写，它规定了自己的语法规则，用来表示比“文本”更丰富的意义，比如图片，表格，链接等。\n",
    "\n",
    "浏览器（IE,FireFox等）软件知道HTML语言的语法，可以用来查看HTML文档。目前互联网上的绝大部分网页都是使用HTML编写的。"
   ]
  },
  {
   "cell_type": "markdown",
   "metadata": {},
   "source": [
    "#### HTML是什么样的"
   ]
  },
  {
   "cell_type": "markdown",
   "metadata": {},
   "source": [
    "简单地来说，HTML的语法就是给文本加上表明文本含义的标签(Tag)，让用户（人或程序）能对文本得到更好的理解。\n",
    "下面是一个最简单的HTML文档："
   ]
  },
  {
   "cell_type": "raw",
   "metadata": {},
   "source": [
    "<html>\n",
    "  <head>\n",
    "    <title>第一个Html文档</title>\n",
    "  </head>\n",
    "  <body>\n",
    "    欢迎访问<a href=\"http://www.jb51.net\">脚本之家</a>!\n",
    "  </body>\n",
    "</html>"
   ]
  },
  {
   "cell_type": "raw",
   "metadata": {},
   "source": [
    "所有的HTML文档都应该有一个<html>标签，<html>标签可以包含两个部分:<head>和<body>。\n",
    "    \n",
    "<head>标签用于包含整个文档的一般信息，比如文档的标题（<title>标签用于包含标题），对整个文档的描述，文档的关键字等等。\n",
    "    \n",
    "文档的具体内容就要放在<body>标签里了。\n",
    "    \n",
    "<a>标签用于表示链接，在浏览器（如IE,Firefox等）中查看HTML文档时，点击<a>标签括起来的内容时，通常会跳转到另一个页面。\n",
    "\n",
    "这个要跳转到的页面的地址由<a>标签的href属性指定。上面的<a href=\"http://deerchao.net\">中，href属性的值就是http://deerchao.net。"
   ]
  },
  {
   "cell_type": "markdown",
   "metadata": {},
   "source": [
    "#### HTML文档可以包含的内容"
   ]
  },
  {
   "cell_type": "raw",
   "metadata": {},
   "source": [
    "通过不同的标签，HTML文档可以包含不同的内容，比如文本，链接，图片，列表，表格，表单，框架等。\n",
    "\n",
    "文本\n",
    "HTML对文本的支持是最丰富的，你可以设置不同级别的标题，分段和换行，可以指定文本的语义和外观，可以说明文本是引用自其它的地方。\n",
    "\n",
    "链接\n",
    "链接用来指出内容与另一个页面或当前页面某个地方有关。\n",
    "\n",
    "图片\n",
    "图片用于使页面更加美观，或提供更多的信息。\n",
    "\n",
    "列表\n",
    "列表用于说明一系列条目是彼此相关的。\n",
    "\n",
    "表格\n",
    "表格是按行与列将数据组织在一起的形式。也有不少人使用表格进行页面布局。\n",
    "\n",
    "表单\n",
    "表单通常由文本输入框，按钮，多选框，单选框，下拉列表等组成，使HTML页面更有交互性。\n",
    "\n",
    "框架\n",
    "框架使页面里能包含其它的页面。"
   ]
  },
  {
   "cell_type": "markdown",
   "metadata": {},
   "source": [
    "#### HTML文档格式详细说明"
   ]
  },
  {
   "cell_type": "raw",
   "metadata": {},
   "source": [
    "HTML文档可以用任何文本编辑器（比如记事本，UltraEdit等）创建，编辑，因为它的内容在本质也只是一些文本。\n",
    "\n",
    "在HTML文本中，用尖括号括起来的部分称为标签。如果想在正文里使用尖括号（或者大与号小与号，总之是同一个东西），必须使用字符转义，也就是说转换字符的原有意义。\n",
    "\n",
    "<应该使用&lt; 代替\n",
    ">则使用  &gt; 代替\n",
    "至于&符号本身,则应该使用&amp;替代（不得不说的是有很多HTML文档没有遵循这个规则，常用的浏览器也都能够分析出&到底是一个转义的开始，还是一个符号，但是这样做是不推荐的）。"
   ]
  },
  {
   "cell_type": "markdown",
   "metadata": {},
   "source": [
    "标签本质上是对它所包含的内容的说明，可能会有属性，来给出更多的信息。\n",
    "\n",
    "比如<img>（图片）标签有src属性（用于指明图片的地址），width和height属性（用于说明图片的宽度和高度）。\n",
    "\n",
    "HTML里能使用哪些标签，这些标签分别可以拥有哪些属性，这些都是有规定的，知道了这里说的基本知识之后，学习HTML其实也就是学习这些标签了。"
   ]
  },
  {
   "cell_type": "markdown",
   "metadata": {},
   "source": [
    "#### 常用标签介绍"
   ]
  },
  {
   "cell_type": "markdown",
   "metadata": {},
   "source": [
    "##### 文本"
   ]
  },
  {
   "cell_type": "markdown",
   "metadata": {},
   "source": [
    "最常用的标签可能是<font>了，它用于改变字体，字号，文字颜色"
   ]
  },
  {
   "cell_type": "raw",
   "metadata": {},
   "source": [
    "<font size=\"6\">6</font>\n",
    "<font size=\"4\">4</font>\n",
    "<font color=\"red\" size=\"5\">红色的5</font>\n",
    "<font face=\"黑体\">黑体的字</font>"
   ]
  },
  {
   "cell_type": "raw",
   "metadata": {},
   "source": [
    "加粗，下划线，斜体字也是常用的文字效果，它们分别用<b>,<u>,<i>表示："
   ]
  },
  {
   "cell_type": "raw",
   "metadata": {},
   "source": [
    "<b>Bold</b>\n",
    "<i>italic</i>\n",
    "<u>underline</u>"
   ]
  },
  {
   "cell_type": "raw",
   "metadata": {},
   "source": [
    "一篇很长的文章，如果有合适的小标题的话，就可以快速地对它的内容进行大致的了解。在HTML里，用来表示标题的标签有：<h1>,<h2>,<h3>,<h4>,<h5>,<h6>，它们分别表示一级标题，二级标题，三级标题..."
   ]
  },
  {
   "cell_type": "raw",
   "metadata": {},
   "source": [
    "<h1>HTML 30分钟教程</h1>\n",
    "<h2>什么是HTML</h2>\n",
    "...\n",
    "<h2>HTML是什么样的</h2>\n",
    "..."
   ]
  },
  {
   "cell_type": "markdown",
   "metadata": {},
   "source": [
    "### 图片"
   ]
  },
  {
   "cell_type": "raw",
   "metadata": {},
   "source": [
    "<hr>标签用于在页面上添加横线。可以通过指定width和color属性来控制横线的长度和颜色。\n",
    "<hr width=\"90%\" color=\"red\" />"
   ]
  },
  {
   "cell_type": "raw",
   "metadata": {},
   "source": [
    "<img>标签用于在页面上添加图片，src属性指定图片的地址，如果无法打开src指定的图片，浏览器通常会在页面上需要显示图片的地方显示alt属性定义的文本。\n",
    "<img src=\"http://www.w3.org/Icons/valid-xhtml10\" alt=\"图片简介\" />"
   ]
  },
  {
   "cell_type": "markdown",
   "metadata": {},
   "source": [
    "### 链接"
   ]
  },
  {
   "cell_type": "raw",
   "metadata": {},
   "source": [
    "超级链接用<a>标签表示，href属性指定了链接到的地址。<a>标签可以包含文本，也可以包含图片。"
   ]
  },
  {
   "cell_type": "raw",
   "metadata": {},
   "source": [
    "<a href=\"http://deerchao.net\">大学生论坛</a>\n",
    "<a href=\"http://validator.w3.org\"><img src=\"http://www.w3.org/Icons/valid-xhtml10\" alt=\"验证HTML\" /></a>"
   ]
  },
  {
   "cell_type": "markdown",
   "metadata": {},
   "source": [
    "### 分段与换行"
   ]
  },
  {
   "cell_type": "raw",
   "metadata": {},
   "source": [
    "由于HTML文档会忽略空白符，所以要想保证正常的分段换行的话，必须指出哪些文字是属于同一段落的，这就用到了标签<p>。\n",
    "\n",
    "<p>这是第一段。</p>\n",
    "<p>这是第二段。</p>"
   ]
  },
  {
   "cell_type": "raw",
   "metadata": {},
   "source": [
    "也有人不用<p>，而用<br>。<br>只表示换行，不表示段落的开始或结束，所以通常没有结束标签。\n",
    "这是第一段。<br>\n",
    "这是第二段。<br />\n",
    "这是第三段。"
   ]
  },
  {
   "cell_type": "raw",
   "metadata": {},
   "source": [
    "有时，要把文档看作不同的部分组合起来的，比如一个典型的页面可能包括三个部分：页头，主体，页脚。<div>标签专门用于标明不同的部分：\n",
    "<div>页头内容</div>\n",
    "<div>主体内容</div>\n",
    "<div>页脚内容</div>"
   ]
  },
  {
   "cell_type": "markdown",
   "metadata": {},
   "source": [
    "### 表格"
   ]
  },
  {
   "cell_type": "raw",
   "metadata": {},
   "source": [
    "HTML文档在浏览器里通常是从左到右，从上到下地显示的，到了窗口右边就自动换行。为了实现分栏的效果，很多人使用表格（<table>）进行页面排版（虽然HTML里提供表格的本意不是为了排版）。\n",
    "    \n",
    "<table>标签里通常会包含几个<tr>标签，<tr>代表表格里的一行。<tr>标签又会包含<td>标签，每个<td>代表一个单元格。"
   ]
  },
  {
   "cell_type": "raw",
   "metadata": {},
   "source": [
    "<table>\n",
    "  <tr>\n",
    "    <td>2000</td><td>悉尼</td>\n",
    "  </tr>\n",
    "  <tr>\n",
    "    <td>2004</td><td>雅典</td>\n",
    "  </tr>\n",
    "  <tr>\n",
    "    <td>2008</td><td>北京</td>\n",
    "  </tr>\n",
    "</table>"
   ]
  },
  {
   "cell_type": "raw",
   "metadata": {},
   "source": [
    "<tr>标签还可以被<table>里的<thead>或<tbody>或<tfoot>包含。它们分别代表表头，表正文，表脚。在打印网页的时候，如果表格很大，一页打印不完，<thead>和<tfoot>将在每一页出现。\n",
    "<th>和<td>非常相似，也用在<tr>里边，不同的是<th>代表这个单元格是它所在的行或列的标题。\n",
    "\n",
    "<table>\n",
    "  <thead>\n",
    "    <tr><th>时间</th><th>地点</th></tr>\n",
    "  </thead>\n",
    "  <tbody>\n",
    "    <tr><td>2000</td><td>悉尼</td></tr>\n",
    "    <tr><td>2004</td><td>雅典</td></tr>\n",
    "    <tr><td>2000</td><td>北京</td></tr>\n",
    "  </tbody>\n",
    "</table>"
   ]
  },
  {
   "cell_type": "markdown",
   "metadata": {},
   "source": [
    "#### 列表"
   ]
  },
  {
   "cell_type": "raw",
   "metadata": {},
   "source": [
    "表格用于表示二维数据（行，列），一维数据则用列表表示。列表可以分为无序列表（<ul>），有序列表（<ol>）和定义列表（<dl>）。前两种列表更常见一些，都用<li>标签包含列表项目。\n",
    "\n",
    "无序列表表示一系列类似的项目，它们之间没有先后顺序。\n",
    "\n",
    "<ul>\n",
    "  <li>苹果</li>\n",
    "  <li>桔子</li>\n",
    "  <li>桃</li>\n",
    "</ul>"
   ]
  },
  {
   "cell_type": "raw",
   "metadata": {},
   "source": [
    "有序列表中各个项目间的顺序是很重要的，浏览器通常会自动给它们产生编号。\n",
    "\n",
    "<ol>\n",
    "  <li>打开冰箱门</li>\n",
    "  <li>把大象赶进去</li>\n",
    "  <li>关上冰箱门</li>\n",
    "</ol>"
   ]
  }
 ],
 "metadata": {
  "kernelspec": {
   "display_name": "Python 3",
   "language": "python",
   "name": "python3"
  },
  "language_info": {
   "codemirror_mode": {
    "name": "ipython",
    "version": 3
   },
   "file_extension": ".py",
   "mimetype": "text/x-python",
   "name": "python",
   "nbconvert_exporter": "python",
   "pygments_lexer": "ipython3",
   "version": "3.6.3"
  }
 },
 "nbformat": 4,
 "nbformat_minor": 2
}
