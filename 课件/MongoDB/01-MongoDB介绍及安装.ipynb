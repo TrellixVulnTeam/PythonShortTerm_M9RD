{
 "cells": [
  {
   "cell_type": "markdown",
   "metadata": {},
   "source": [
    "### MongoDB"
   ]
  },
  {
   "cell_type": "raw",
   "metadata": {},
   "source": [
    "NoSQL 全称为 Not Only SQL，是一种相对较新的数据库设计方式。传统的关系模型使用的是固定模式，\n",
    "并将数据分割到各个表中。 然而，对于大数据集的情况，数据量太大使其难以存放在单一服务器中，此时就需要扩展到\n",
    "多台服务器。 不过，关系模型对于这种扩展的支持并不够好，因为在查询多个表时，数据可能在不同的服务器中。\n",
    "\n",
    "相反 ， NoSQL 数据库通常是无模式的 ，从设计之初就考虑了跨服务器无缝分片的问题 。 在 NoSQL 中，有多种方式可\n",
    "以实现该目标，分别是\n",
    "列数据存储（如 HBase）、\n",
    "键值对存储（如 Redis） 、\n",
    "面向文档的数据库（ 如 MongoDB ）\n",
    "图形数据库（ 如 Neo4j ） 。"
   ]
  },
  {
   "cell_type": "raw",
   "metadata": {},
   "source": [
    "#### 安装MongoDB\n",
    "\n",
    "1.解压缩到自己想要安装的目录，比如d:\\mongodb\n",
    "2.创建文件夹d:\\mongodb\\data\\db、d:\\mongodb\\data\\log，分别用来安装db和日志文件，在log文件夹下创建一个日志文件MongoDB.log，即d:\\mongodb\\data\\log\\MongoDB.log\n",
    "3.运行cmd.exe进入dos命令界面，执行下列命令\n",
    "\n",
    "　　> cd d:\\mongodb\\bin\n",
    "  \n",
    "　　> d:\\mongodb\\bin>mongod -dbpath \"d:\\mongodb\\data\\db\"\n",
    "\n",
    "4.默认MongoDB监听的端口是27017\n",
    "\n",
    "5.测试连接:新开一个cmd窗口，进入mongodb的bin目录，输入mongo或者mongo.exe 。输入exit或者ctrl+C可退出。\n",
    "\n",
    "6.当mongod.exe被关闭时，mongo.exe 就无法连接到数据库了，因此每次想使用mongodb数据库都要开启mongod.exe程序，所以比较麻烦，此时我们可以将MongoDB安装为windows服务\n",
    "　还是运行cmd，进入bin文件夹，执行下列命令\n",
    "\n",
    "　> d:\\mongodb\\bin>mongod --dbpath \"d:\\mongodb\\data\\db\" --logpath \"d:\\mongodb\\data\\log\\MongoDB.log\" --install --serviceName \"MongoDB\"\n",
    "　这里MongoDB.log就是开始建立的日志文件，--serviceName \"MongoDB\" 服务名为MongoDB\n",
    "　\n",
    " 接着启动mongodb服务\n",
    "  \n",
    "  > c:\\Windows\\System32\n",
    " \n",
    "  > c:\\Windows\\System32>net start MongoDB\n",
    "\n",
    "7.关闭服务和删除进程\n",
    "　> c:\\Windows\\System32>net stop MongoDB   (关闭服务)\n",
    "\n",
    "  > d:\\mongodb\\bin>mongod --dbpath \"d:\\mongodb\\data\\db\" --logpath \"d:\\mongodb\\data\\log\\MongoDB.log\" --remove --serviceName \"MongoDB\"\n",
    "    (删除，注意不是--install了）"
   ]
  },
  {
   "cell_type": "code",
   "execution_count": null,
   "metadata": {},
   "outputs": [],
   "source": []
  }
 ],
 "metadata": {
  "kernelspec": {
   "display_name": "Python 3",
   "language": "python",
   "name": "python3"
  },
  "language_info": {
   "codemirror_mode": {
    "name": "ipython",
    "version": 3
   },
   "file_extension": ".py",
   "mimetype": "text/x-python",
   "name": "python",
   "nbconvert_exporter": "python",
   "pygments_lexer": "ipython3",
   "version": "3.6.3"
  }
 },
 "nbformat": 4,
 "nbformat_minor": 2
}
