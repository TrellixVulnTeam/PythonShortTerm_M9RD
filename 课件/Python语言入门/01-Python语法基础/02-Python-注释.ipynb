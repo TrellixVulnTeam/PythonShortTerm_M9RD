{
 "cells": [
  {
   "cell_type": "markdown",
   "metadata": {},
   "source": [
    "### 注释\n",
    "注释是任何存在于 # 号右侧的文字，其主要用作写给程序读者看的笔记。\n",
    "举个例子："
   ]
  },
  {
   "cell_type": "code",
   "execution_count": null,
   "metadata": {},
   "outputs": [],
   "source": [
    "print('hello world') #注意到 print 是一个函数"
   ]
  },
  {
   "cell_type": "markdown",
   "metadata": {},
   "source": [
    "或者"
   ]
  },
  {
   "cell_type": "code",
   "execution_count": null,
   "metadata": {},
   "outputs": [],
   "source": [
    "# 注意到 print 是一个函数\n",
    "print('hello world')"
   ]
  },
  {
   "cell_type": "markdown",
   "metadata": {},
   "source": [
    "你应该在你的程序中尽可能多地使用有用的注释：\n",
    "\n",
    "1.解释假设\n",
    "\n",
    "2.说明重要的决定\n",
    "\n",
    "3.解释重要的细节\n",
    "\n",
    "4.说明你想要解决的问题\n",
    "\n",
    "5.说明你想要在程序中克服的问题，等等。\n",
    "\n",
    "\n"
   ]
  },
  {
   "cell_type": "markdown",
   "metadata": {},
   "source": [
    "##### 代码会告诉你怎么做，注释会告诉你为何如此。\n",
    "\n",
    "这样做对你的程序的读者来说非常有用，他们可以很容易地理解你的程序是做什么的。请记\n",
    "住，这个人可以是六个月后的你！"
   ]
  }
 ],
 "metadata": {
  "kernelspec": {
   "display_name": "Python 3",
   "language": "python",
   "name": "python3"
  },
  "language_info": {
   "codemirror_mode": {
    "name": "ipython",
    "version": 3
   },
   "file_extension": ".py",
   "mimetype": "text/x-python",
   "name": "python",
   "nbconvert_exporter": "python",
   "pygments_lexer": "ipython3",
   "version": "3.6.3"
  }
 },
 "nbformat": 4,
 "nbformat_minor": 2
}
