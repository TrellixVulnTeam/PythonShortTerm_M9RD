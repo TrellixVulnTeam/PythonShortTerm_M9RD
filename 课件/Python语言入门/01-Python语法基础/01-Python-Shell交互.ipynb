{
 "cells": [
  {
   "cell_type": "markdown",
   "metadata": {},
   "source": [
    "### 使用解释器提示符\n",
    "\n",
    "在你的操作系统中打开终端（Terminal）程序，然后通过输入 python3 并按下 [enter] 键来打开 Python 提示符。当你启动 Python 后，你会看见在你能开始输入内容的地方出现了 >>> 。这个被称作 Python解释器提示符（Python Interpreter Prompt）。\n",
    "\n",
    "在 Python 解释器提示符，输入："
   ]
  },
  {
   "cell_type": "code",
   "execution_count": null,
   "metadata": {},
   "outputs": [],
   "source": [
    "print(\"Hello World\")"
   ]
  },
  {
   "cell_type": "markdown",
   "metadata": {},
   "source": [
    "在输入完成后按下 [enter] 键。你将会看到屏幕上打印出 Hello World 字样"
   ]
  },
  {
   "cell_type": "markdown",
   "metadata": {},
   "source": [
    "### 如何退出解释器提示符"
   ]
  },
  {
   "cell_type": "markdown",
   "metadata": {},
   "source": [
    "如果你正在使用一款 GNU/Linux或 OS X 上的 Shell 程序，你可以通过按下 [ctrl + d] 组\n",
    "合键或是输入 exit()【注意：要记住要包含括号 ()】并敲下 [enter] 来退出解释器提示\n",
    "符。\n",
    "如果你使用的是 Windows 命令提示符，可以按下 [ctrl + z] 组合键并敲击 [enter] 键来\n",
    "退出"
   ]
  },
  {
   "cell_type": "markdown",
   "metadata": {},
   "source": [
    "### 使用一份源代码文件\n",
    "\n",
    "在你学习一门新的编程语言时有一项传统，你所编写并运行的第\n",
    "一个程序应该是 “Hello World” 程序——它所做的全部工作便是宣言你所运行的“Hello\n",
    "World”这句话。"
   ]
  },
  {
   "cell_type": "markdown",
   "metadata": {},
   "source": [
    "打开一个新文件名将其命名为 hello.py "
   ]
  },
  {
   "cell_type": "code",
   "execution_count": null,
   "metadata": {},
   "outputs": [],
   "source": [
    "print(\"hello world\")"
   ]
  },
  {
   "cell_type": "markdown",
   "metadata": {},
   "source": [
    "你应当将文件保存到哪里？保存到任何你知道其位置与路径的文件夹。如果你不了解这句话\n",
    "是什么意思，那就创建一个新文件夹并用这一路径来保存并运行你所有的 Python 程序：\n",
    "\n",
    "Mac OS X 上的 /tmp/py 。\n",
    "\n",
    "GNU/Linux 上的 /tmp/py 。\n",
    "\n",
    "Windows 上的 C:\\\\py \n",
    "\n",
    "\n",
    "要想创建上述文件夹（在你正在使用的操作系统上），你可以在终端上使用 mkdir 命令，如\n",
    "mkdir /tmp/py 。\n",
    "重要提示：你需要经常确认并确保你为文件赋予了 .py 扩展名，例如 foo.py 。\n"
   ]
  },
  {
   "cell_type": "raw",
   "metadata": {},
   "source": [
    "要想运行你的 Python 程序：\n",
    "\n",
    "1. 打开终端窗口（你可查阅先前的 安装章节来了解应该怎么做）。\n",
    "2. 使用 cd 命令来改变目录到你保存文件的地方，例如 cd /tmp/py 。\n",
    "3. 通过输入命令 python hello.py 来运行程序。程序的输出结果应如下方所示：\n",
    " \n",
    " python hello.py"
   ]
  }
 ],
 "metadata": {
  "kernelspec": {
   "display_name": "Python 3",
   "language": "python",
   "name": "python3"
  },
  "language_info": {
   "codemirror_mode": {
    "name": "ipython",
    "version": 3
   },
   "file_extension": ".py",
   "mimetype": "text/x-python",
   "name": "python",
   "nbconvert_exporter": "python",
   "pygments_lexer": "ipython3",
   "version": "3.6.3"
  }
 },
 "nbformat": 4,
 "nbformat_minor": 2
}
