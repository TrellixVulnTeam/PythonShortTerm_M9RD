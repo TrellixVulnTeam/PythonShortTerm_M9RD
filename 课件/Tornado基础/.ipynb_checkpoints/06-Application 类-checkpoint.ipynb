{
 "cells": [
  {
   "cell_type": "raw",
   "metadata": {},
   "source": [
    "app = tornado.web.Application(handlers=[(r\"/\", IndexHandler)])"
   ]
  },
  {
   "cell_type": "markdown",
   "metadata": {},
   "source": [
    "将 tornado.web.Application 类实例化。这个实例化，本质上是建立了整个网站程序的请求处理集合，然后它可以被 HTTPServer 做为参数调用，实现 http 协议服务器访问。Application 类的__init__方法参数形式："
   ]
  },
  {
   "cell_type": "code",
   "execution_count": 1,
   "metadata": {},
   "outputs": [],
   "source": [
    "def __init__(self, handlers=None, default_host=\"\", transforms=None,**settings):\n",
    "    pass"
   ]
  },
  {
   "cell_type": "raw",
   "metadata": {},
   "source": [
    "在一般情况下，handlers 是不能为空的，因为 Application 类通过这个参数的值处理所得到的请求。例如在本例中，handlers=[(r\"/\", IndexHandler)]，就意味着如果通过浏览器的地址栏输入根路径（http://localhost:8000 就是根路径，如果是 http://localhost:8000/qiwsir，就不属于根，而是一个子路径或目录了），对应着就是让名字为 IndexHandler 类处理这个请求。\n",
    "\n",
    "通过 handlers 传入的数值格式，一定要注意，在后面做复杂结构的网站是，这里就显得重要了。它是一个 list，list 里面的元素是  tuple，tuple  的组成包括两部分，一部分是请求路径，另外一部分是处理程序的类名称。注意请求路径可以用正则表达式书写。\n",
    "\n",
    "注意：\n",
    "在这里我使用了 r\"/\"的样式，意味着就不需要使用转义符，r 后面的都表示该符号本来的含义。例如，\\n，如果单纯这么来使用，就以为着换行，因为符号“\\”具有转义功能，当写成 r\"\\n\" 的形式是，就不再表示换行了，而是两个字符，\\ 和 n，不会转意。一般情况下，由于正则表达式和 \\ 会有冲突，因此，当一个字符串使用了正则表达式后，最好在前面加上'r'。"
   ]
  }
 ],
 "metadata": {
  "kernelspec": {
   "display_name": "Python 2",
   "language": "python",
   "name": "python2"
  },
  "language_info": {
   "codemirror_mode": {
    "name": "ipython",
    "version": 2
   },
   "file_extension": ".py",
   "mimetype": "text/x-python",
   "name": "python",
   "nbconvert_exporter": "python",
   "pygments_lexer": "ipython2",
   "version": "2.7.13"
  }
 },
 "nbformat": 4,
 "nbformat_minor": 2
}
