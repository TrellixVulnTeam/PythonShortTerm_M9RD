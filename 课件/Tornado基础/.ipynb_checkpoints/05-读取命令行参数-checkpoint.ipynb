{
 "cells": [
  {
   "cell_type": "markdown",
   "metadata": {},
   "source": [
    "### 读取命令行参数"
   ]
  },
  {
   "cell_type": "code",
   "execution_count": null,
   "metadata": {},
   "outputs": [],
   "source": [
    "from tornado.options import define, options\n",
    "define(\"port\", default=8000, help=\"run on the given port\", type=int)"
   ]
  },
  {
   "cell_type": "raw",
   "metadata": {},
   "source": [
    "Tornado包括了一个有用的模块（tornado.options）来从命令行中读取设置。\n",
    "\n",
    "我们在这里使用这个模块指定我们的应用监听HTTP请求的端口。\n",
    "\n",
    "它的工作流程如下：\n",
    "1、如果一个与define语句中同名的设置在命令行中被给出，那么它将成为全局options的一个属性。\n",
    "\n",
    "2、如果用户运行程序时使用了--help选项，程序将打印出所有你定义的选项以及你在define函数的help参数中指定的文本。\n",
    "\n",
    "3、如果用户没有为这个选项指定值，则使用default的值进行代替。Tornado使用type参数进行基本的参数类型验证，当不合适的类型被给出时抛出一个异常。\n",
    "\n",
    "因此，我们允许一个整数的port参数作为options.port来访问程序。如果用户没有指定值，则默认为8000。"
   ]
  },
  {
   "cell_type": "markdown",
   "metadata": {},
   "source": [
    "#### cmd.py"
   ]
  },
  {
   "cell_type": "code",
   "execution_count": null,
   "metadata": {},
   "outputs": [],
   "source": [
    "import tornado.options\n",
    "from tornado.options import define, options\n",
    "define(\"port\", default=8000, help=\"run on the given port\", type=int)\n",
    "\n",
    "\n",
    "if __name__ == \"__main__\":\n",
    "    tornado.options.parse_command_line()"
   ]
  },
  {
   "cell_type": "raw",
   "metadata": {},
   "source": [
    "测试:\n",
    "\n",
    "python cmd.py --help"
   ]
  }
 ],
 "metadata": {
  "kernelspec": {
   "display_name": "Python 2",
   "language": "python",
   "name": "python2"
  },
  "language_info": {
   "codemirror_mode": {
    "name": "ipython",
    "version": 2
   },
   "file_extension": ".py",
   "mimetype": "text/x-python",
   "name": "python",
   "nbconvert_exporter": "python",
   "pygments_lexer": "ipython2",
   "version": "2.7.13"
  }
 },
 "nbformat": 4,
 "nbformat_minor": 2
}
