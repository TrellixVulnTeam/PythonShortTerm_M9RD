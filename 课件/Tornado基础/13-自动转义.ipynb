{
 "cells": [
  {
   "cell_type": "raw",
   "metadata": {},
   "source": [
    "Tornado默认会自动转义模板中的内容，把标签转换为相应的HTML实体。这样可以防止后端为数据库的网站被恶意脚本攻击。比如，你的网站中有一个评论部分，用户可以在这里添加任何他们想说的文字进行讨论。虽然一些HTML标签在标记和样式冲突时不构成重大威胁（如评论中没有闭<h1>标签），但<script>标签会允许攻击者加载其他的JavaScript文件，打开通向跨站脚本攻击、XSS或漏洞之门。\n",
    "\n",
    "假如网站上的一个用户反馈页面在评论里提交了下面的文字："
   ]
  },
  {
   "cell_type": "raw",
   "metadata": {},
   "source": [
    "Totally hacked your site lulz <script>alert('RUNNING EVIL H4CKS AND SPL01TS NOW...')</script>"
   ]
  },
  {
   "cell_type": "markdown",
   "metadata": {},
   "source": [
    "当我们在没有转义用户内容的情况下给一个不知情的用户构建页面时，脚本标签被作为一个HTML元素解释，并被浏览器执行，弹出对话框。\n",
    "\n",
    "幸亏Tornado会自动转义在双大括号间被渲染的表达式\n",
    "\n",
    "所以在这里，我们可以看到自动转义是如何防止你的访客进行恶意攻击的。然而，当通过模板和模块提供HTML动态内容时它仍会让你措手不及。\n",
    "举个例子，如果Burt想在footer中使用模板变量设置email联系链接，他将不会得到期望的HTML链接。考虑下面的模板片段：\n"
   ]
  },
  {
   "cell_type": "raw",
   "metadata": {},
   "source": [
    "{% set mailLink = '<a href=\"mailto:contact@burtsbooks.com\">Contact Us</a>' %}\n",
    "{{ mailLink }}"
   ]
  },
  {
   "cell_type": "markdown",
   "metadata": {},
   "source": [
    "它会在页面源代码中渲染成如下代码："
   ]
  },
  {
   "cell_type": "raw",
   "metadata": {},
   "source": [
    "&lt;a href=&quot;mailto:contact@burtsbooks.com&quot;&gt;Contact Us&lt;/a&gt;"
   ]
  },
  {
   "cell_type": "markdown",
   "metadata": {},
   "source": [
    "此时自动转义被运行了，很明显，这无法让人们联系上Burt。\n",
    "为了处理这种情况，你可以禁用自动转义，一种方法是在Application构造函数中传递autoescape=None，另一种方法是在每页的基础上修改自动转义行为，如下所示："
   ]
  },
  {
   "cell_type": "raw",
   "metadata": {},
   "source": [
    "{% autoescape None %}\n",
    "{% set mailLink = '<a href=\"mailto:contact@burtsbooks.com\">Contact Us</a>' %}\n",
    "{{ mailLink }}"
   ]
  },
  {
   "cell_type": "raw",
   "metadata": {},
   "source": [
    "这些autoescape块不需要结束标签，并且可以设置{% autoescape xhtml_escape %}来开启自动转义（默认行为），或None来关闭。\n",
    "\n",
    "然而，在理想的情况下，你希望保持自动转义开启以便继续防护你的网站。因此，你可以使用{% raw %}指令来输出不转义的内容。"
   ]
  },
  {
   "cell_type": "raw",
   "metadata": {},
   "source": [
    "{% raw mailLink %}"
   ]
  },
  {
   "cell_type": "markdown",
   "metadata": {},
   "source": [
    "需要特别注意的是，当你使用诸如Tornado的linkify()和xsrf_form_html()函数时，自动转义的设置被改变了。所以如果你希望在前面代码的footer中使用linkify()来包含链接，你可以使用一个{% raw %}块："
   ]
  },
  {
   "cell_type": "raw",
   "metadata": {},
   "source": [
    "{% raw linkify(\"https://fb.me/burtsbooks\", extra_params='ref=website') %}.\n",
    "对比\n",
    "{{ linkify(\"https://fb.me/burtsbooks\", extra_params='ref=website') }}."
   ]
  },
  {
   "cell_type": "raw",
   "metadata": {},
   "source": [
    "既利用linkify()简记的好处，又可以保持在其他地方自动转义的好处。"
   ]
  }
 ],
 "metadata": {
  "kernelspec": {
   "display_name": "Python 3",
   "language": "python",
   "name": "python3"
  },
  "language_info": {
   "codemirror_mode": {
    "name": "ipython",
    "version": 3
   },
   "file_extension": ".py",
   "mimetype": "text/x-python",
   "name": "python",
   "nbconvert_exporter": "python",
   "pygments_lexer": "ipython3",
   "version": "3.6.3"
  }
 },
 "nbformat": 4,
 "nbformat_minor": 2
}
