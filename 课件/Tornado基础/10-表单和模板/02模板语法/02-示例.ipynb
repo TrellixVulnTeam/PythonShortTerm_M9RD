{
 "cells": [
  {
   "cell_type": "code",
   "execution_count": null,
   "metadata": {},
   "outputs": [],
   "source": [
    "class BookHandler(tornado.web.RequestHandler):\n",
    "    def get(self):\n",
    "        self.render(\n",
    "            \"book.html\",\n",
    "            title=\"Home Page\",\n",
    "            header=\"Books that are great\",\n",
    "            books=[\n",
    "                \"Learning Python\",\n",
    "                \"Programming Collective Intelligence\",\n",
    "                \"Restful Web Services\"\n",
    "            ]\n",
    "        )"
   ]
  },
  {
   "cell_type": "raw",
   "metadata": {},
   "source": [
    "<html>\n",
    "    <head>\n",
    "        <title>{{ title }}</title>\n",
    "    </head>\n",
    "    <body>\n",
    "        <h1>{{ header }}</h1>\n",
    "        <ul>\n",
    "            {% for book in books %}\n",
    "                <li>{{ book }}</li>\n",
    "            {% end %}\n",
    "        </ul>\n",
    "    </body>\n",
    "</html>"
   ]
  },
  {
   "cell_type": "markdown",
   "metadata": {},
   "source": [
    "将会渲染得到下面的输出："
   ]
  },
  {
   "cell_type": "raw",
   "metadata": {},
   "source": [
    "<html>\n",
    "    <head>\n",
    "        <title>Home Page</title>\n",
    "    </head>\n",
    "    <body>\n",
    "        <h1>Books that are great</h1>\n",
    "        <ul>\n",
    "            <li>Learning Python</li>\n",
    "            <li>Programming Collective Intelligence</li>\n",
    "            <li>Restful Web Services</li>\n",
    "        </ul>\n",
    "    </body>\n",
    "</html>"
   ]
  },
  {
   "cell_type": "markdown",
   "metadata": {},
   "source": [
    "Tornado模板语言的一个最好的东西是在if和for语句块中可以使用的表达式没有限制。因此，你可以在你的模板中执行所有的Python代码。\n",
    "\n",
    "同样，你也可以在你的控制语句块中间使用{% set foo = 'bar' %}来设置变量。你还有很多可以在控制语句块中做的事情，但是在大多数情况下，你最好使用UI模块来做更复杂的划分。我们稍后会更详细的看到这一点。"
   ]
  }
 ],
 "metadata": {
  "kernelspec": {
   "display_name": "Python 3",
   "language": "python",
   "name": "python3"
  },
  "language_info": {
   "codemirror_mode": {
    "name": "ipython",
    "version": 3
   },
   "file_extension": ".py",
   "mimetype": "text/x-python",
   "name": "python",
   "nbconvert_exporter": "python",
   "pygments_lexer": "ipython3",
   "version": "3.6.3"
  }
 },
 "nbformat": 4,
 "nbformat_minor": 2
}
