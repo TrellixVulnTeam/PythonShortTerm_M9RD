{
 "cells": [
  {
   "cell_type": "raw",
   "metadata": {},
   "source": [
    "escape(s)替换字符串s中的&、<、>为他们对应的HTML字符。\n",
    "                \n",
    "url_escape(s)使用urllib.quote_plus替换字符串s中的字符为URL编码形式。\n",
    "                \n",
    "json_encode(val)将val编码成JSON格式。（在系统底层，这是一个对json库的dumps函数的调用。\n",
    "                \n",
    "squeeze(s)过滤字符串s，把连续的多个空白字符替换成一个空格。\n",
    "\n",
    "使用如下方法{{ escape(book) }}调用\n",
    "\n",
    "在Tornado 1.x中，模版不是被自动转义的。在Tornado 2.0后，模板被默认为自动转义。\n"
   ]
  },
  {
   "cell_type": "markdown",
   "metadata": {},
   "source": [
    "在模板中使用一个你自己编写的函数也是很简单的：只需要将函数名作为模板的参数传递即可，就像其他变量一样。"
   ]
  },
  {
   "cell_type": "code",
   "execution_count": null,
   "metadata": {},
   "outputs": [],
   "source": [
    ">>> from tornado.template import Template\n",
    ">>> def disemvowel(s):\n",
    "...     return ''.join([x for x in s if x not in 'aeiou'])\n",
    "...\n",
    ">>> disemvowel(\"george\")\n",
    "'grg'\n",
    ">>> print Template(\"my name is {{d('mortimer')}}\").generate(d=disemvowel)\n",
    "my name is mrtmr"
   ]
  }
 ],
 "metadata": {
  "kernelspec": {
   "display_name": "Python 3",
   "language": "python",
   "name": "python3"
  },
  "language_info": {
   "codemirror_mode": {
    "name": "ipython",
    "version": 3
   },
   "file_extension": ".py",
   "mimetype": "text/x-python",
   "name": "python",
   "nbconvert_exporter": "python",
   "pygments_lexer": "ipython3",
   "version": "3.6.3"
  }
 },
 "nbformat": 4,
 "nbformat_minor": 2
}
