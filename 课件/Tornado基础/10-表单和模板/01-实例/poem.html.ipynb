{
 "cells": [
  {
   "cell_type": "raw",
   "metadata": {},
   "source": [
    "<!DOCTYPE html>\n",
    "<html>\n",
    "    <head><title>Poem Maker Pro</title></head>\n",
    "    <body>\n",
    "        <h1>Your poem</h1>\n",
    "        <p>Two {{roads}} diverged in a {{wood}}, and I—<br>\n",
    "I took the one less travelled by,<br>\n",
    "And that has {{made}} all the {{difference}}.</p>\n",
    "    </body>\n",
    "</html>"
   ]
  },
  {
   "cell_type": "markdown",
   "metadata": {},
   "source": [
    "模板poem.html使用PoemPageHandler渲染，是这种方式的一个很好的例子。\n",
    "\n",
    "在poem.html中，你可以看到模板中有一些被双大括号（{{和}}）括起来的字符串\n",
    "\n",
    "在双大括号中的单词是占位符，当我们渲染模板时希望以实际值代替。我们可以使用向render函数中传递关键字参数的方法指定什么值将被填充到HTML文件中的对应位置，其中关键字对应模板文件中占位符的名字。下面是在PoemPageHandler中相应的代码部分："
   ]
  },
  {
   "cell_type": "code",
   "execution_count": null,
   "metadata": {},
   "outputs": [],
   "source": [
    "noun1 = self.get_argument('noun1')\n",
    "noun2 = self.get_argument('noun2')\n",
    "verb = self.get_argument('verb')\n",
    "noun3 = self.get_argument('noun3')\n",
    "self.render('poem.html', roads=noun1, wood=noun2, made=verb, difference=noun3)"
   ]
  },
  {
   "cell_type": "markdown",
   "metadata": {},
   "source": [
    "在这里，我们告诉模板使用变量noun1（该变量是从get_argument方法取得的）作为模板中roads的值，noun2作为模板中wood的值，依此类推。"
   ]
  }
 ],
 "metadata": {
  "kernelspec": {
   "display_name": "Python 2",
   "language": "python",
   "name": "python2"
  },
  "language_info": {
   "codemirror_mode": {
    "name": "ipython",
    "version": 2
   },
   "file_extension": ".py",
   "mimetype": "text/x-python",
   "name": "python",
   "nbconvert_exporter": "python",
   "pygments_lexer": "ipython2",
   "version": "2.7.13"
  }
 },
 "nbformat": 4,
 "nbformat_minor": 2
}
