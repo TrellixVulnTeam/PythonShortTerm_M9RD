{
 "cells": [
  {
   "cell_type": "markdown",
   "metadata": {},
   "source": [
    "### poemmaker.py"
   ]
  },
  {
   "cell_type": "code",
   "execution_count": null,
   "metadata": {},
   "outputs": [],
   "source": [
    "import os.path\n",
    "\n",
    "import tornado.httpserver\n",
    "import tornado.ioloop\n",
    "import tornado.options\n",
    "import tornado.web\n",
    "\n",
    "from tornado.options import define, options\n",
    "define(\"port\", default=8000, help=\"run on the given port\", type=int)\n",
    "\n",
    "class IndexHandler(tornado.web.RequestHandler):\n",
    "    def get(self):\n",
    "        self.render('index.html')\n",
    "\n",
    "class PoemPageHandler(tornado.web.RequestHandler):\n",
    "    def post(self):\n",
    "        noun1 = self.get_argument('noun1')\n",
    "        noun2 = self.get_argument('noun2')\n",
    "        verb = self.get_argument('verb')\n",
    "        noun3 = self.get_argument('noun3')\n",
    "        self.render('poem.html', roads=noun1, wood=noun2, made=verb,\n",
    "                difference=noun3)\n",
    "\n",
    "if __name__ == '__main__':\n",
    "    tornado.options.parse_command_line()\n",
    "    app = tornado.web.Application(\n",
    "        handlers=[(r'/', IndexHandler), (r'/poem', PoemPageHandler)],\n",
    "        template_path=os.path.join(os.path.dirname(__file__), \"templates\")\n",
    "    )\n",
    "    http_server = tornado.httpserver.HTTPServer(app)\n",
    "    http_server.listen(options.port)\n",
    "    tornado.ioloop.IOLoop.instance().start()"
   ]
  },
  {
   "cell_type": "markdown",
   "metadata": {},
   "source": [
    "#### 渲染模板\n",
    "我们向Application对象的__init__方法传递了一个template_path参数。"
   ]
  },
  {
   "cell_type": "code",
   "execution_count": null,
   "metadata": {},
   "outputs": [],
   "source": [
    "template_path=os.path.join(os.path.dirname(__file__), \"templates\")           "
   ]
  },
  {
   "cell_type": "markdown",
   "metadata": {},
   "source": [
    "template_path参数告诉Tornado在哪里寻找模板文件。"
   ]
  },
  {
   "cell_type": "raw",
   "metadata": {},
   "source": [
    "模板是一个允许你嵌入Python代码片段的HTML文件。 一旦我们告诉Tornado在哪里找到模板，我们可以使用RequestHandler类的render方法来告诉Tornado读入模板文件，插入其中的模版代码，并返回结果给浏览器。\n",
    "\n",
    "比如，在IndexHandler中，我们发现了下面的语句："
   ]
  },
  {
   "cell_type": "markdown",
   "metadata": {},
   "source": [
    " self.render('index.html') "
   ]
  },
  {
   "cell_type": "markdown",
   "metadata": {},
   "source": [
    "这段代码告诉Tornado在templates文件夹下找到一个名为index.html的文件，读取其中的内容，并且发送给浏览器。"
   ]
  }
 ],
 "metadata": {
  "kernelspec": {
   "display_name": "Python 2",
   "language": "python",
   "name": "python2"
  },
  "language_info": {
   "codemirror_mode": {
    "name": "ipython",
    "version": 2
   },
   "file_extension": ".py",
   "mimetype": "text/x-python",
   "name": "python",
   "nbconvert_exporter": "python",
   "pygments_lexer": "ipython2",
   "version": "2.7.13"
  }
 },
 "nbformat": 4,
 "nbformat_minor": 2
}
