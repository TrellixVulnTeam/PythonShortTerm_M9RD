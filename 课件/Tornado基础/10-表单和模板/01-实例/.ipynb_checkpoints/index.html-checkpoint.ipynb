{
 "cells": [
  {
   "cell_type": "markdown",
   "metadata": {},
   "source": [
    "#### index.html"
   ]
  },
  {
   "cell_type": "raw",
   "metadata": {},
   "source": [
    "<!DOCTYPE html>\n",
    "<html>\n",
    "    <head><title>Poem Maker Pro</title></head>\n",
    "    <body>\n",
    "        <h1>Enter terms below.</h1>\n",
    "        <form method=\"post\" action=\"/poem\">\n",
    "        <p>Plural noun<br><input type=\"text\" name=\"noun1\"></p>\n",
    "        <p>Singular noun<br><input type=\"text\" name=\"noun2\"></p>\n",
    "        <p>Verb (past tense)<br><input type=\"text\" name=\"verb\"></p>\n",
    "        <p>Noun<br><input type=\"text\" name=\"noun3\"></p>\n",
    "        <input type=\"submit\">\n",
    "        </form>\n",
    "    </body>\n",
    "</html>"
   ]
  },
  {
   "cell_type": "markdown",
   "metadata": {},
   "source": [
    "实际上index.html完全不能称之为\"模板\"，它所包含的完全是已编写好的HTML标记。"
   ]
  }
 ],
 "metadata": {
  "kernelspec": {
   "display_name": "Python 2",
   "language": "python",
   "name": "python2"
  },
  "language_info": {
   "codemirror_mode": {
    "name": "ipython",
    "version": 2
   },
   "file_extension": ".py",
   "mimetype": "text/x-python",
   "name": "python",
   "nbconvert_exporter": "python",
   "pygments_lexer": "ipython2",
   "version": "2.7.13"
  }
 },
 "nbformat": 4,
 "nbformat_minor": 2
}
