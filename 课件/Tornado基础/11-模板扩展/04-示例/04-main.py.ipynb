{
 "cells": [
  {
   "cell_type": "markdown",
   "metadata": {},
   "source": [
    "为了运作网站，传递信息给index模板，下面给出Burt's Book的Python脚本（main.py）"
   ]
  },
  {
   "cell_type": "code",
   "execution_count": null,
   "metadata": {},
   "outputs": [],
   "source": [
    "import tornado.web\n",
    "import tornado.httpserver\n",
    "import tornado.ioloop\n",
    "import tornado.options\n",
    "import os.path\n",
    "\n",
    "from tornado.options import define, options\n",
    "define(\"port\", default=8000, help=\"run on the given port\", type=int)\n",
    "\n",
    "class Application(tornado.web.Application):\n",
    "    def __init__(self):\n",
    "        handlers = [\n",
    "            (r\"/\", MainHandler),\n",
    "        ]\n",
    "        settings = dict(\n",
    "            template_path=os.path.join(os.path.dirname(__file__), \"templates\"),\n",
    "            static_path=os.path.join(os.path.dirname(__file__), \"static\"),\n",
    "            debug=True,\n",
    "        )\n",
    "        tornado.web.Application.__init__(self, handlers, **settings)\n",
    "\n",
    "class MainHandler(tornado.web.RequestHandler):\n",
    "    def get(self):\n",
    "        self.render(\n",
    "            \"index.html\",\n",
    "            page_title = \"Burt's Books | Home\",\n",
    "            header_text = \"Welcome to Burt's Books!\",\n",
    "        )\n",
    "\n",
    "if __name__ == \"__main__\":\n",
    "    tornado.options.parse_command_line()\n",
    "    http_server = tornado.httpserver.HTTPServer(Application())\n",
    "    http_server.listen(options.port)\n",
    "    tornado.ioloop.IOLoop.instance().start()"
   ]
  },
  {
   "cell_type": "markdown",
   "metadata": {},
   "source": [
    "这个例子的结构和我们之前见到的不太一样，但你一点都不需要害怕。我们不再像之前那样通过使用一个处理类列表和一些其他关键字参数调用tornado.web.Application的构造函数来创建实例，而是定义了我们自己的Application子类，在这里我们简单地称之为Application。在我们定义的__init__方法中，我们创建了处理类列表以及一个设置的字典，然后在初始化子类的调用中传递这些值，就像下面的代码一样："
   ]
  },
  {
   "cell_type": "raw",
   "metadata": {},
   "source": [
    " tornado.web.Application.__init__(self, handlers, **settings)"
   ]
  },
  {
   "cell_type": "markdown",
   "metadata": {},
   "source": [
    "所以在这个系统中，Burt's Book可以很容易地改变index页面并保持基础模板在其他页面被使用时完好。"
   ]
  }
 ],
 "metadata": {
  "kernelspec": {
   "display_name": "Python 3",
   "language": "python",
   "name": "python3"
  },
  "language_info": {
   "codemirror_mode": {
    "name": "ipython",
    "version": 3
   },
   "file_extension": ".py",
   "mimetype": "text/x-python",
   "name": "python",
   "nbconvert_exporter": "python",
   "pygments_lexer": "ipython3",
   "version": "3.6.3"
  }
 },
 "nbformat": 4,
 "nbformat_minor": 2
}
