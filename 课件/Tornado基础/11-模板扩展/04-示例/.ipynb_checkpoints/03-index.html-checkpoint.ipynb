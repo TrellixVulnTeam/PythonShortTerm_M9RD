{
 "cells": [
  {
   "cell_type": "markdown",
   "metadata": {},
   "source": [
    "这个网站的index页（index.html）欢迎友好的网站访问者并提供一些商店的信息。通过扩展main.html，这个文件只需要包括用于替换默认文本的header和body块的信息。"
   ]
  },
  {
   "cell_type": "raw",
   "metadata": {},
   "source": [
    "{% extends \"main.html\" %}\n",
    "\n",
    "{% block header %}\n",
    "    <h1>{{ header_text }}</h1>\n",
    "{% end %}\n",
    "\n",
    "{% block body %}\n",
    "    <div id=\"hello\">\n",
    "        <p>Welcome to Burt's Books!</p>\n",
    "        <p>...</p>\n",
    "    </div>\n",
    "{% end %}"
   ]
  },
  {
   "cell_type": "markdown",
   "metadata": {},
   "source": [
    "在footer块中，这个文件使用了Tornado模板的默认行为，继承了来自父模板的联系信息。"
   ]
  }
 ],
 "metadata": {
  "kernelspec": {
   "display_name": "Python 2",
   "language": "python",
   "name": "python2"
  },
  "language_info": {
   "codemirror_mode": {
    "name": "ipython",
    "version": 2
   },
   "file_extension": ".py",
   "mimetype": "text/x-python",
   "name": "python",
   "nbconvert_exporter": "python",
   "pygments_lexer": "ipython2",
   "version": "2.7.13"
  }
 },
 "nbformat": 4,
 "nbformat_minor": 2
}
