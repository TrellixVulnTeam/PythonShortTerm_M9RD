{
 "cells": [
  {
   "cell_type": "markdown",
   "metadata": {},
   "source": [
    "Burt's Book的网站使用一个叫作main.html的主要基础模板，用来包含网站的通用架构:"
   ]
  },
  {
   "cell_type": "raw",
   "metadata": {},
   "source": [
    "<html>\n",
    "<head>\n",
    "    <title>{{ page_title }}</title>\n",
    "    <link rel=\"stylesheet\" href=\"{{ static_url(\"css/style.css\") }}\" />\n",
    "</head>\n",
    "<body>\n",
    "    <div id=\"container\">\n",
    "        <header>\n",
    "            {% block header %}<h1>Burt's Books</h1>{% end %}\n",
    "        </header>\n",
    "        <div id=\"main\">\n",
    "            <div id=\"content\">\n",
    "                {% block body %}{% end %}\n",
    "            </div>\n",
    "        </div>\n",
    "        <footer>\n",
    "            {% block footer %}\n",
    "                <p>\n",
    "    For more information about our selection, hours or events, please email us at\n",
    "    <a href=\"mailto:contact@burtsbooks.com\">contact@burtsbooks.com</a>.\n",
    "                </p>\n",
    "            {% end %}\n",
    "        </footer>\n",
    "    </div>\n",
    "    <script src=\"{{ static_url(\"js/script.js\") }}\"></script>\n",
    "    </body>\n",
    "</html>"
   ]
  },
  {
   "cell_type": "markdown",
   "metadata": {},
   "source": [
    "这个页面定义了结构，应用了一个CSS样式表，并加载了主要的JavaScript文件。其他模板可以扩展它，在必要时替换header、body和footer块。"
   ]
  }
 ],
 "metadata": {
  "kernelspec": {
   "display_name": "Python 2",
   "language": "python",
   "name": "python2"
  },
  "language_info": {
   "codemirror_mode": {
    "name": "ipython",
    "version": 2
   },
   "file_extension": ".py",
   "mimetype": "text/x-python",
   "name": "python",
   "nbconvert_exporter": "python",
   "pygments_lexer": "ipython2",
   "version": "2.7.13"
  }
 },
 "nbformat": 4,
 "nbformat_minor": 2
}
