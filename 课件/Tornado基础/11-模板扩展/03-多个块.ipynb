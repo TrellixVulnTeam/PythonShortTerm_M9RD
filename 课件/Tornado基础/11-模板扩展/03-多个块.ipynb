{
 "cells": [
  {
   "cell_type": "markdown",
   "metadata": {},
   "source": [
    "更好的是，你可以为每个页面使用多个块，此时像header和footer这样的动态元素将会被包含在同一个流程中。\n",
    "下面是一个在父模板main.html中使用多个块的例子："
   ]
  },
  {
   "cell_type": "raw",
   "metadata": {},
   "source": [
    "<html>\n",
    "<body>\n",
    "    <header>\n",
    "        {% block header %}{% end %}\n",
    "    </header>\n",
    "    <content>\n",
    "        {% block body %}{% end %}\n",
    "    </content>\n",
    "    <footer>\n",
    "        {% block footer %}{% end %}\n",
    "    </footer>\n",
    "</body>\n",
    "</html>"
   ]
  },
  {
   "cell_type": "raw",
   "metadata": {},
   "source": [
    "当我们扩展父模板main.html时，可以在子模板index.html中引用这些块。"
   ]
  },
  {
   "cell_type": "raw",
   "metadata": {},
   "source": [
    "{% extends \"main.html\" %}\n",
    "\n",
    "{% block header %}\n",
    "    <h1>{{ header_text }}</h1>\n",
    "{% end %}\n",
    "\n",
    "{% block body %}\n",
    "    <p>Hello from the child template!</p>\n",
    "{% end %}\n",
    "\n",
    "{% block footer %}\n",
    "    <p>{{ footer_text }}</p>\n",
    "{% end %}"
   ]
  },
  {
   "cell_type": "markdown",
   "metadata": {},
   "source": [
    "用来加载模板的Python脚本和上一个例子差不多，不过在这里我们传递了几个字符串变量给模板使用"
   ]
  },
  {
   "cell_type": "code",
   "execution_count": null,
   "metadata": {},
   "outputs": [],
   "source": [
    "class MainHandler(tornado.web.RequestHandler):\n",
    "    def get(self):\n",
    "        self.render(\n",
    "            \"index.html\",\n",
    "            header_text = \"Header goes here\",\n",
    "            footer_text = \"Footer goes here\"\n",
    "        )"
   ]
  },
  {
   "cell_type": "markdown",
   "metadata": {},
   "source": [
    "你也可以保留父模板块语句中的默认文本和标记，就像扩展模板没有指定它自己的块版本一样被渲染。这种情况下，你可以根据某页的情况只替换必须的东西，这在包含或替换脚本、CSS文件和标记块时非常有用。"
   ]
  }
 ],
 "metadata": {
  "kernelspec": {
   "display_name": "Python 3",
   "language": "python",
   "name": "python3"
  },
  "language_info": {
   "codemirror_mode": {
    "name": "ipython",
    "version": 3
   },
   "file_extension": ".py",
   "mimetype": "text/x-python",
   "name": "python",
   "nbconvert_exporter": "python",
   "pygments_lexer": "ipython3",
   "version": "3.6.3"
  }
 },
 "nbformat": 4,
 "nbformat_minor": 2
}
