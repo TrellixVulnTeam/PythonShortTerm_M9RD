{
 "cells": [
  {
   "cell_type": "markdown",
   "metadata": {},
   "source": [
    "扩展一个模板使你复用之前写过的代码更加简单，但是这并不会为你提供所有的东西，除非你可以适应并改变那些之前的模板。所以，block语句出现了。\n",
    "\n",
    "一个块语句压缩了一些当你扩展时可能想要改变的模板元素。比如，为了使用一个能够根据不同页覆写的动态header块，你可以在父模板main.html中添加如下代码：\n"
   ]
  },
  {
   "cell_type": "raw",
   "metadata": {},
   "source": [
    "<header>\n",
    "    {% block header %}{% end %}\n",
    "</header>"
   ]
  },
  {
   "cell_type": "markdown",
   "metadata": {},
   "source": [
    "然后，为了在子模板index.html中覆写{% block header %}{% end %}部分，你可以使用块的名字引用，并把任何你想要的内容放到其中。"
   ]
  },
  {
   "cell_type": "raw",
   "metadata": {},
   "source": [
    "{% block header %}{% end %}\n",
    "\n",
    "{% block header %}\n",
    "    <h1>Hello world!</h1>\n",
    "{% end %}"
   ]
  },
  {
   "cell_type": "markdown",
   "metadata": {},
   "source": [
    "任何继承这个模板的文件都可以包含它自己的{% block header %}和{% end %}，然后把一些不同的东西加进去。\n",
    "\n",
    "为了在Web应用中调用这个子模板，你可以在你的Python脚本中很轻松地渲染它，就像之前你渲染其他模板那样"
   ]
  },
  {
   "cell_type": "code",
   "execution_count": null,
   "metadata": {},
   "outputs": [],
   "source": [
    "class MainHandler(tornado.web.RequestHandler):\n",
    "    def get(self):\n",
    "        self.render(\"index.html\")"
   ]
  },
  {
   "cell_type": "markdown",
   "metadata": {},
   "source": [
    "所以此时，main.html中的body块在加载时会被以index.html中的信息\"Hello world!\"填充"
   ]
  }
 ],
 "metadata": {
  "kernelspec": {
   "display_name": "Python 3",
   "language": "python",
   "name": "python3"
  },
  "language_info": {
   "codemirror_mode": {
    "name": "ipython",
    "version": 3
   },
   "file_extension": ".py",
   "mimetype": "text/x-python",
   "name": "python",
   "nbconvert_exporter": "python",
   "pygments_lexer": "ipython3",
   "version": "3.6.3"
  }
 },
 "nbformat": 4,
 "nbformat_minor": 2
}
