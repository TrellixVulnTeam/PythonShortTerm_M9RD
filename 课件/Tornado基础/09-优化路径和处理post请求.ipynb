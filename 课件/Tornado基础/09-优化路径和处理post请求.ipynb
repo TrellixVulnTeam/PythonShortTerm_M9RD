{
 "cells": [
  {
   "cell_type": "code",
   "execution_count": null,
   "metadata": {},
   "outputs": [],
   "source": [
    "import textwrap\n",
    "\n",
    "import tornado.httpserver\n",
    "import tornado.ioloop\n",
    "import tornado.options\n",
    "import tornado.web\n",
    "\n",
    "from tornado.options import define, options\n",
    "define(\"port\", default=8000, help=\"run on the given port\", type=int)\n",
    "\n",
    "class ReverseHandler(tornado.web.RequestHandler):\n",
    "    def get(self, input):\n",
    "        self.write(input[::-1])\n",
    "\n",
    "class WrapHandler(tornado.web.RequestHandler):\n",
    "    def post(self):\n",
    "        text = self.get_argument('text')\n",
    "        width = self.get_argument('width', 40)\n",
    "        self.write(textwrap.fill(text, int(width)))\n",
    "        \n",
    "if __name__ == \"__main__\":\n",
    "    tornado.options.parse_command_line()\n",
    "    app = tornado.web.Application(\n",
    "        handlers=[\n",
    "            (r\"/reverse/(\\w+)\", ReverseHandler),\n",
    "            (r\"/wrap\", WrapHandler)\n",
    "        ]\n",
    "    )\n",
    "    http_server = tornado.httpserver.HTTPServer(app)\n",
    "    http_server.listen(options.port)\n",
    "    tornado.ioloop.IOLoop.instance().start()"
   ]
  },
  {
   "cell_type": "raw",
   "metadata": {},
   "source": [
    "启动服务器，访问如下：\n",
    "\n",
    " http://localhost:8000/reverse/stressed\n",
    " http://localhost:8000/reverse/slipup"
   ]
  },
  {
   "cell_type": "markdown",
   "metadata": {},
   "source": [
    "这个程序是一个通用的字符串操作的Web服务端基本框架。到目前为止，你可以用它做两件事情。\n",
    "\n",
    "其一，到/reverse/string的GET请求将会返回URL路径中指定字符串的反转形式\n",
    "\n",
    "其二，到/wrap的POST请求将从参数text中取得指定的文本，并返回按照参数width指定宽度装饰的文本。下面的请求指定一个没有宽度的字符串，所以它的输出宽度被指定为程序中的get_argument的默认值40个字符。"
   ]
  },
  {
   "cell_type": "raw",
   "metadata": {},
   "source": [
    " curl http://localhost:8000/wrap -d text=Lorem+ipsum+dolor+sit+amet,+consectetuer+adipiscing+elit."
   ]
  },
  {
   "cell_type": "markdown",
   "metadata": {},
   "source": [
    "#### GET请求"
   ]
  },
  {
   "cell_type": "raw",
   "metadata": {},
   "source": [
    "Application类在\"handlers\"参数中实例化了两个RequestHandler类对象。第一个引导Tornado传递路径匹配下面的正则表达式的请求：\n",
    "\n",
    "/reverse/(\\w+)正则表达式告诉Tornado匹配任何以字符串/reverse/开始并紧跟着一个或多个字母的路径。\n",
    "\n",
    "括号的含义是让Tornado保存匹配括号里面表达式的字符串，并将其作为请求方法的一个参数传递给RequestHandler类。"
   ]
  },
  {
   "cell_type": "code",
   "execution_count": null,
   "metadata": {},
   "outputs": [],
   "source": [
    "app = tornado.web.Application(handlers=[\n",
    "    (r\"/reverse/(\\w+)\", ReverseHandler),\n",
    "    (r\"/wrap\", WrapHandler)\n",
    "])"
   ]
  },
  {
   "cell_type": "markdown",
   "metadata": {},
   "source": [
    "可以看到这里的get方法有一个额外的参数input。这个参数将包含匹配处理函数正则表达式第一个括号里的字符串。\n",
    "\n",
    "（如果正则表达式中有一系列额外的括号，匹配的字符串将被按照在正则表达式中出现的顺序作为额外的参数传递进来。）"
   ]
  },
  {
   "cell_type": "code",
   "execution_count": null,
   "metadata": {},
   "outputs": [],
   "source": [
    "class ReverseHandler(tornado.web.RequestHandler):\n",
    "    def get(self, input):\n",
    "        self.write(input[::-1])"
   ]
  },
  {
   "cell_type": "markdown",
   "metadata": {},
   "source": [
    "#### POST请求"
   ]
  },
  {
   "cell_type": "raw",
   "metadata": {},
   "source": [
    "WrapHandler类处理匹配路径为/wrap的请求。这个处理函数定义了一个post方法，也就是说它接收HTTP的POST方法的请求。\n",
    "\n",
    "我们之前使用RequestHandler对象的get_argument方法来捕获请求查询字符串的的参数。同样，我们也可以使用相同的方法来获得POST请求传递的参数。\n",
    "\n",
    "（Tornado可以解析URLencoded和multipart结构的POST请求）。一旦我们从POST中获得了文本和宽度的参数，我们使用Python内建的textwrap模块来以指定的宽度装饰文本，并将结果字符串写回到HTTP响应中。\n"
   ]
  },
  {
   "cell_type": "code",
   "execution_count": null,
   "metadata": {},
   "outputs": [],
   "source": [
    "class WrapHandler(tornado.web.RequestHandler):\n",
    "    def post(self):\n",
    "        text = self.get_argument('text')\n",
    "        width = self.get_argument('width', 40)\n",
    "        self.write(textwrap.fill(text, int(width)))"
   ]
  }
 ],
 "metadata": {
  "kernelspec": {
   "display_name": "Python 3",
   "language": "python",
   "name": "python3"
  },
  "language_info": {
   "codemirror_mode": {
    "name": "ipython",
    "version": 3
   },
   "file_extension": ".py",
   "mimetype": "text/x-python",
   "name": "python",
   "nbconvert_exporter": "python",
   "pygments_lexer": "ipython3",
   "version": "3.6.3"
  }
 },
 "nbformat": 4,
 "nbformat_minor": 2
}
