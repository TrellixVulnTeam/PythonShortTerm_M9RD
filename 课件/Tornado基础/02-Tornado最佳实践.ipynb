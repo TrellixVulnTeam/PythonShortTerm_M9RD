{
 "cells": [
  {
   "cell_type": "code",
   "execution_count": null,
   "metadata": {},
   "outputs": [],
   "source": [
    "import tornado.httpserver\n",
    "import tornado.ioloop\n",
    "import tornado.options\n",
    "import tornado.web\n",
    "\n",
    "from tornado.options import define, options\n",
    "define(\"port\", default=8000, help=\"run on the given port\", type=int)\n",
    "\n",
    "class IndexHandler(tornado.web.RequestHandler):\n",
    "    def get(self):\n",
    "        greeting = self.get_argument('greeting', 'Hello')\n",
    "        self.write(greeting + ', friendly user!')\n",
    "\n",
    "if __name__ == \"__main__\":\n",
    "    tornado.options.parse_command_line()\n",
    "    app = tornado.web.Application(handlers=[(r\"/\", IndexHandler)])\n",
    "    http_server = tornado.httpserver.HTTPServer(app)\n",
    "    http_server.listen(options.port)\n",
    "    tornado.ioloop.IOLoop.instance().start()"
   ]
  },
  {
   "cell_type": "raw",
   "metadata": {},
   "source": [
    "你可以在命令行里尝试运行这个程序以测试输出：\n",
    "\n",
    "python hello.py --port=8000"
   ]
  },
  {
   "cell_type": "raw",
   "metadata": {},
   "source": [
    "#测试：\n",
    "http://localhost:8000/\n",
    "#或\n",
    "http://localhost:8000/?greeting=Salutations"
   ]
  }
 ],
 "metadata": {
  "kernelspec": {
   "display_name": "Python 3",
   "language": "python",
   "name": "python3"
  },
  "language_info": {
   "codemirror_mode": {
    "name": "ipython",
    "version": 3
   },
   "file_extension": ".py",
   "mimetype": "text/x-python",
   "name": "python",
   "nbconvert_exporter": "python",
   "pygments_lexer": "ipython3",
   "version": "3.6.3"
  }
 },
 "nbformat": 4,
 "nbformat_minor": 2
}
