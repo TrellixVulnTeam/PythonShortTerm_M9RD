{
 "cells": [
  {
   "cell_type": "code",
   "execution_count": null,
   "metadata": {
    "scrolled": false
   },
   "outputs": [],
   "source": [
    "import json\n",
    "import string\n",
    "import  requests\n",
    "\n",
    "template_url = 'http://example.webscraping.com/places/ajax/search.json?page={}&page_size=10&search_term={}'\n",
    "countries = set()\n",
    "\n",
    "for letter in string.ascii_lowercase:\n",
    "    page =0\n",
    "    while True:\n",
    "        html = requests.get(template_url.format(page,letter)).text\n",
    "\n",
    "        try:\n",
    "            ajax = json.loads(html)\n",
    "        except ValueError as e:\n",
    "            ajax=None\n",
    "        else:\n",
    "            for record in ajax['records']:\n",
    "                countries.add(record['country'])\n",
    "                print(record['country'])\n",
    "        page +=1\n",
    "\n",
    "        if ajax is None or page>=ajax['num_pages']:\n",
    "            break\n",
    "\n",
    "open('countries.txt','w').write('\\n'.join(sorted(countries)))\n"
   ]
  },
  {
   "cell_type": "code",
   "execution_count": null,
   "metadata": {},
   "outputs": [],
   "source": []
  }
 ],
 "metadata": {
  "kernelspec": {
   "display_name": "Python 3",
   "language": "python",
   "name": "python3"
  },
  "language_info": {
   "codemirror_mode": {
    "name": "ipython",
    "version": 3
   },
   "file_extension": ".py",
   "mimetype": "text/x-python",
   "name": "python",
   "nbconvert_exporter": "python",
   "pygments_lexer": "ipython3",
   "version": "3.6.3"
  }
 },
 "nbformat": 4,
 "nbformat_minor": 2
}
