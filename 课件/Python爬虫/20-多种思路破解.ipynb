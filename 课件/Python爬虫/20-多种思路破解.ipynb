{
 "cells": [
  {
   "cell_type": "markdown",
   "metadata": {},
   "source": [
    "我们是针对每个字母执行查询操作的,也就是说我们\n",
    "需要26次单独的查询，并且这些查询结果又有很多重复。理想情况下，我们可以使用一次搜索查询就能匹配所有结果。接下来，我们将尝试使用不同字\n"
   ]
  },
  {
   "cell_type": "markdown",
   "metadata": {},
   "source": [
    "符来测试这种想法是否可行。如果将搜索条件置为空:"
   ]
  },
  {
   "cell_type": "code",
   "execution_count": null,
   "metadata": {},
   "outputs": [],
   "source": [
    "import requests\n",
    "import json\n",
    "html = requests.get('http://example.webscraping.com/places/ajax/search.json?page=0&page_size=10&search_term=')\n",
    "\n",
    "print(json.loads(html.text)['num_pages'])\n"
   ]
  },
  {
   "cell_type": "markdown",
   "metadata": {},
   "source": [
    "尝试'*'是否能够匹配所有结果:"
   ]
  },
  {
   "cell_type": "code",
   "execution_count": null,
   "metadata": {},
   "outputs": [],
   "source": [
    "html = requests.get('http://example.webscraping.com/places/ajax/search.json?page=0&page_size=10&search_term=*')\n",
    "print(json.loads(html.text)['num_pages'])"
   ]
  },
  {
   "cell_type": "markdown",
   "metadata": {},
   "source": [
    "尝试'.'是否能够匹配所有结果,这是正则表达式里用于匹配所有字符的元字符："
   ]
  },
  {
   "cell_type": "code",
   "execution_count": null,
   "metadata": {},
   "outputs": [],
   "source": [
    "html = requests.get('http://example.webscraping.com/places/ajax/search.json?page=0&page_size=10&search_term=.')\n",
    "print(json.loads(html.text)['num_pages'])"
   ]
  },
  {
   "cell_type": "markdown",
   "metadata": {},
   "source": [
    "这次尝试成功了,看来服务端是通过正则表达式进行匹配的。因此,现在可以把依次搜索每个字符替换成只对点号搜索一次了。\n",
    "\n",
    "此外，你可能已经注意到在 AJAX的URL中有一个用于设定每个页面显示国家数量的参数。 搜索界面中包含4、10、20这几种选工页 ， 其中默认值为\n",
    "\n",
    "10。因此，提高每个页面的显示数量到最大值 ，可以使下载次数减半 。"
   ]
  },
  {
   "cell_type": "code",
   "execution_count": null,
   "metadata": {},
   "outputs": [],
   "source": [
    "html = requests.get('http://example.webscraping.com/places/ajax/search.json?page=0&page_size=20&search_term=.')\n",
    "print(json.loads(html.text)['num_pages'])"
   ]
  },
  {
   "cell_type": "markdown",
   "metadata": {},
   "source": [
    "要是使用比网页界面选择框支持的每页国家数更高的数值又会怎样呢 ？"
   ]
  },
  {
   "cell_type": "code",
   "execution_count": null,
   "metadata": {},
   "outputs": [],
   "source": [
    "html = requests.get('http://example.webscraping.com/places/ajax/search.json?page=0&page_size=1000&search_term=.')\n",
    "print(json.loads(html.text)['num_pages'])"
   ]
  }
 ],
 "metadata": {
  "kernelspec": {
   "display_name": "Python 3",
   "language": "python",
   "name": "python3"
  },
  "language_info": {
   "codemirror_mode": {
    "name": "ipython",
    "version": 3
   },
   "file_extension": ".py",
   "mimetype": "text/x-python",
   "name": "python",
   "nbconvert_exporter": "python",
   "pygments_lexer": "ipython3",
   "version": "3.6.3"
  }
 },
 "nbformat": 4,
 "nbformat_minor": 2
}
