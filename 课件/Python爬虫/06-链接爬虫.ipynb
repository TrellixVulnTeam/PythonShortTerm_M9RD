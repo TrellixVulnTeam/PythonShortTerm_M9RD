{
 "cells": [
  {
   "cell_type": "markdown",
   "metadata": {},
   "source": [
    "### 链接爬虫\n",
    "\n",
    "对于另一些网站 ，我们需要让爬虫表现得更像普通用户，跟踪链接，访问感兴趣的内容\n",
    "\n",
    "通过跟踪所有链接的方式，我们可以很容易地下载整个网站的页面。但是，这种方法会下载大量我们并不需要的网页。\n",
    "例如，我们想要从一个在线论坛中抓取用户账号详情页，那么此时我们只需要下载账号页，而不需要下载讨论贴的页面。\n",
    "\n",
    "爬虫将使用正则表达式来确定需要下载哪些页面。"
   ]
  },
  {
   "cell_type": "code",
   "execution_count": null,
   "metadata": {},
   "outputs": [],
   "source": [
    "import  urllib\n",
    "def download(url, user_agent='Mozilla/5.0' ,num_retries=2 ):\n",
    "    print(\"Downloading!\",url)\n",
    "    headers = {\"User-agent\":user_agent}\n",
    "    request = urllib.request.Request(url,headers=headers)\n",
    "\n",
    "    try:\n",
    "        html=urllib.request.urlopen(request).read()\n",
    "    except urllib.request.URLError as e:\n",
    "        print(\"url error:\",e.reason)\n",
    "        html=None\n",
    "        if num_retries > 0:\n",
    "            if hasattr(e,'code') and 500 <= e.code < 600:\n",
    "                return download(url,user_agent,num_retries-1)\n",
    "    return html.decode('utf-8')"
   ]
  },
  {
   "cell_type": "code",
   "execution_count": null,
   "metadata": {},
   "outputs": [],
   "source": [
    "# **********************************************************\n",
    "# *************************更新区域*************************\n",
    "# **********************************************************\n",
    "import re\n",
    "\n",
    "def get_links(html):\n",
    "    webpage_regex = re.compile('<a[^>]+href=[\"\\'](.*?)[\"\\']',re.IGNORECASE)\n",
    "    return webpage_regex.findall(html)\n",
    "\n",
    "def link_crawler(seed_url,link_regex):\n",
    "    # 爬取队列\n",
    "    crawl_queue=[seed_url]\n",
    "\n",
    "    while crawl_queue:\n",
    "        url = crawl_queue.pop()\n",
    "        html = download(url)\n",
    "        for link in get_links(html):\n",
    "            if re.match(link_regex,link):\n",
    "                crawl_queue.append(link)\n",
    "# **********************************************************\n",
    "# *************************更新区域*************************\n",
    "# **********************************************************\n"
   ]
  },
  {
   "cell_type": "raw",
   "metadata": {},
   "source": [
    "对于示例网站，我们想要爬取的是国家列表索 引页和国家页面.索引页链接格式如下:\n",
    "\n",
    "http://http://example.webscraping.com/index/1\n",
    "http://http://example.webscraping.com/index/2\n",
    "\n",
    "国家页链接格式如下\n",
    "\n",
    "http://example.webscraping.com/places/default/view/Albania-3\n",
    "http://example.webscraping.com/places/default/view/Aland-Islands-2"
   ]
  },
  {
   "cell_type": "code",
   "execution_count": null,
   "metadata": {
    "scrolled": false
   },
   "outputs": [],
   "source": [
    "link_crawler(\"http://example.webscraping.com/places/\",\"/places/default/(index|view)\")"
   ]
  },
  {
   "cell_type": "raw",
   "metadata": {},
   "source": [
    " ValueError: unknown url type: /places/default/index/1\n",
    "\n",
    "链接只有网页的路径部分，而没有协议和服务器部分，也就是说这是一个相对链接。由于浏览器知道你正在浏览哪个网页，所以在浏览器浏览时，相对链接是能够正常工作的。 但是，urllib2 是无法获知上下文的。\n",
    "\n",
    "为了让 urllib2能够定位网页，我们需要将链接转换为绝对链接的形式， 以便包含定位网页的所有细节"
   ]
  }
 ],
 "metadata": {
  "kernelspec": {
   "display_name": "Python 3",
   "language": "python",
   "name": "python3"
  },
  "language_info": {
   "codemirror_mode": {
    "name": "ipython",
    "version": 3
   },
   "file_extension": ".py",
   "mimetype": "text/x-python",
   "name": "python",
   "nbconvert_exporter": "python",
   "pygments_lexer": "ipython3",
   "version": "3.6.3"
  }
 },
 "nbformat": 4,
 "nbformat_minor": 2
}
