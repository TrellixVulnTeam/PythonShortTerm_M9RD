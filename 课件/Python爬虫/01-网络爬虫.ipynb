{
 "cells": [
  {
   "cell_type": "markdown",
   "metadata": {},
   "source": [
    "### 网络爬虫\n",
    "网络爬虫（又被称为网页蜘蛛，网络机器人，在FOAF社区中间，更经常的称为网页追逐者），是一种按照一定的规则，自动地抓取万维网信息的程序或者脚本。另外一些不常使用的名字还有蚂蚁、自动索引、模拟程序或者蠕虫。"
   ]
  },
  {
   "cell_type": "raw",
   "metadata": {},
   "source": [
    "查找网站所有者\n",
    "pip install python-whois"
   ]
  },
  {
   "cell_type": "code",
   "execution_count": 1,
   "metadata": {},
   "outputs": [
    {
     "name": "stdout",
     "output_type": "stream",
     "text": [
      "{\n",
      "  \"domain_name\": \"APPSPORT.COM\",\n",
      "  \"registrar\": \"GoDaddy.com, LLC\",\n",
      "  \"whois_server\": \"whois.godaddy.com\",\n",
      "  \"referral_url\": null,\n",
      "  \"updated_date\": [\n",
      "    \"2017-05-17 18:35:51\",\n",
      "    \"2017-05-17 18:35:48\"\n",
      "  ],\n",
      "  \"creation_date\": \"1999-12-10 16:58:55\",\n",
      "  \"expiration_date\": \"2020-05-17 11:59:59\",\n",
      "  \"name_servers\": [\n",
      "    \"NS23.DOMAINCONTROL.COM\",\n",
      "    \"NS24.DOMAINCONTROL.COM\"\n",
      "  ],\n",
      "  \"status\": [\n",
      "    \"clientDeleteProhibited https://icann.org/epp#clientDeleteProhibited\",\n",
      "    \"clientRenewProhibited https://icann.org/epp#clientRenewProhibited\",\n",
      "    \"clientTransferProhibited https://icann.org/epp#clientTransferProhibited\",\n",
      "    \"clientUpdateProhibited https://icann.org/epp#clientUpdateProhibited\",\n",
      "    \"clientTransferProhibited http://www.icann.org/epp#clientTransferProhibited\",\n",
      "    \"clientUpdateProhibited http://www.icann.org/epp#clientUpdateProhibited\",\n",
      "    \"clientRenewProhibited http://www.icann.org/epp#clientRenewProhibited\",\n",
      "    \"clientDeleteProhibited http://www.icann.org/epp#clientDeleteProhibited\"\n",
      "  ],\n",
      "  \"emails\": \"abuse@godaddy.com\",\n",
      "  \"dnssec\": \"unsigned\",\n",
      "  \"name\": null,\n",
      "  \"org\": \"Appalachian Sport\",\n",
      "  \"address\": null,\n",
      "  \"city\": null,\n",
      "  \"state\": \"West Virginia\",\n",
      "  \"zipcode\": null,\n",
      "  \"country\": \"US\"\n",
      "}\n"
     ]
    }
   ],
   "source": [
    "import whois\n",
    "\n",
    "print(whois.whois(\"appsport.com\"))"
   ]
  },
  {
   "cell_type": "markdown",
   "metadata": {},
   "source": [
    "#### 案例网站搭建"
   ]
  },
  {
   "cell_type": "raw",
   "metadata": {},
   "source": [
    "1、解压：web2py_win\n",
    "2、解压：python爬虫示例网站\n",
    "3、将第二步解压出来的东西放到第一步解压出来的web2py/application目录下\n",
    "4、在命令行cmd里面输入：\n",
    "net stop http\n",
    "sc config http start= disabled  //禁用服务的自动启动，此处注意等号后面的空格不可少\n",
    "\n",
    "5、修改C:\\Windows\\System32\\drivers\\etc 下的hosts文件，添加如下内容：\n",
    "127.0.0.1 example.webscraping.com\n",
    "6 在第一步解压出来的文件中找到web2py.exe执行，监听端口设置为80"
   ]
  }
 ],
 "metadata": {
  "kernelspec": {
   "display_name": "Python 3",
   "language": "python",
   "name": "python3"
  },
  "language_info": {
   "codemirror_mode": {
    "name": "ipython",
    "version": 3
   },
   "file_extension": ".py",
   "mimetype": "text/x-python",
   "name": "python",
   "nbconvert_exporter": "python",
   "pygments_lexer": "ipython3",
   "version": "3.6.3"
  }
 },
 "nbformat": 4,
 "nbformat_minor": 2
}
