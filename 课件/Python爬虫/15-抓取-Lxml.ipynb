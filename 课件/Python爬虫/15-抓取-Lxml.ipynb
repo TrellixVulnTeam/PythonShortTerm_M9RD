{
 "cells": [
  {
   "cell_type": "raw",
   "metadata": {},
   "source": [
    "Lxml 是基于libxml2 这一XML解析库的Python 封装 。该模块使用 C语言编写，解析速度比BeautifulSoup更快 ,不过安装过程也更为复杂 。\n",
    "\n",
    "安装：pip install lxml\n",
    "\n",
    "我们可以到http://www.lfd.uci.edu/~gohlke/pythonlibs/  下载，之后通过pip安装下载的whl文件"
   ]
  },
  {
   "cell_type": "code",
   "execution_count": 4,
   "metadata": {},
   "outputs": [
    {
     "name": "stdout",
     "output_type": "stream",
     "text": [
      "<ul class=\"country\"> <li>Area </li>\n",
      "<li>Population</li>\n",
      "</ul>\n",
      "\n"
     ]
    }
   ],
   "source": [
    "import  lxml.html\n",
    "broben_html = \"<ul class=country> <li>Area <li>Population</ul>\"\n",
    "tree = lxml.html.fromstring(broben_html)\n",
    "fixed_html = lxml.html.tostring(tree,pretty_print=True)\n",
    "print(fixed_html.decode('utf-8'))\n",
    "# lxml 也可以正确解析属性两侧缺失的引号，并闭合标签"
   ]
  },
  {
   "cell_type": "raw",
   "metadata": {},
   "source": [
    "解析完输入内容之后，进入选择元素的步骤，此时lxml有几种不同的方\n",
    "法，比如 XPath 选择器和类似 Beautiful Soup 的find()方法 。\n",
    "我们将会使用 css 选择器 ， 因为它更加简沽\n",
    "安装:pip install cssselect\n",
    "我们可以到https://pypi.python.org/pypi/cssselect  下载，之后通过pip安装下载的whl文件"
   ]
  },
  {
   "cell_type": "raw",
   "metadata": {},
   "source": [
    "css 选择器\n",
    "css 选择器表示选择元素所使用的模式 。 下面是一些常用的选择器示例 。\n",
    "\n",
    "选择所有标签 ：＊\n",
    "选择<a>标签：a\n",
    "选择所有 class=\"link\"的元素： .link\n",
    "选择class=\"link\" 的 <a>标签： a.link\n",
    "选择 id= \"home\" 的 <a>标签： a#home\n",
    "选择父元素为 <a>标签的所有 <span>子标签： a > span\n",
    "选择<a>标签内部的所有 <span>标签： a span\n",
    "选择 title 属性为 \"Home\" 的所有<a>标签： a[title=Home]"
   ]
  },
  {
   "cell_type": "code",
   "execution_count": 7,
   "metadata": {},
   "outputs": [
    {
     "name": "stdout",
     "output_type": "stream",
     "text": [
      "1127127 square kilometres\n"
     ]
    }
   ],
   "source": [
    "import  lxml.html\n",
    "import requests\n",
    "\n",
    "\n",
    "html = requests.get(\"http://example.webscraping.com/places/default/view/Ethiopia-71\")\n",
    "tree = lxml.html.fromstring(html.text)\n",
    "td = tree.cssselect('tr#places_area__row > td.w2p_fw ')[0]\n",
    "area = td.text_content()\n",
    "print(area)"
   ]
  },
  {
   "cell_type": "raw",
   "metadata": {},
   "source": [
    "该行代码首先会找到 ID 为places_area__row的表格行元素，然后选择 class 为 w2p_fw 的表格数据子标签 。"
   ]
  }
 ],
 "metadata": {
  "kernelspec": {
   "display_name": "Python 3",
   "language": "python",
   "name": "python3"
  }
 },
 "nbformat": 4,
 "nbformat_minor": 2
}
