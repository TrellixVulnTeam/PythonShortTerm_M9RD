{
 "cells": [
  {
   "cell_type": "markdown",
   "metadata": {},
   "source": [
    "### 逆向工程\n",
    "\n",
    " 根据联合国全球网站可访问性审计报告 ， 73%的主流网站都在其重要功能中依赖JavaScript。和单页面应用的简单表单事件不同 ，使用 JavaScript 时，不再是加载后立即下载所有页面内容 。这样就会造成许多网页在浏览器中展示的内容不会出现在 HTML源代码中，对于这种依赖JavaScript的动态网站， 介绍两种抓取其数据的方法，分别是\n",
    "\n",
    "1、 JavaScript 逆向工程\n",
    "\n",
    "2、 渲染JavaScript\n"
   ]
  },
  {
   "cell_type": "markdown",
   "metadata": {},
   "source": [
    "### 查看动态网页示例\n",
    "\n",
    "示例网站有一个搜索表单， 可以通过\n",
    "\n",
    "http://example.webscraping.com/places/default/search\n",
    "\n",
    "进行访问，该页面用于查询国家。比如说，我们想要查找所有起始字母为 A 的国家。\n",
    "\n",
    "如果使用Chrome浏览器，先按F12键，我们单击结果部分， 可以发现结果被存储在ID为 “result” 的div元素中，让我们尝试使用lxml模块抽取这些结果\n"
   ]
  },
  {
   "cell_type": "code",
   "execution_count": 7,
   "metadata": {},
   "outputs": [
    {
     "name": "stdout",
     "output_type": "stream",
     "text": [
      "[]\n"
     ]
    }
   ],
   "source": [
    "import requests\n",
    "import lxml.html\n",
    "\n",
    "html = requests.get('http://example.webscraping.com/places/default/search').text\n",
    "tree = lxml.html.fromstring(html)\n",
    "print(tree.cssselect('div#results a'))"
   ]
  },
  {
   "cell_type": "markdown",
   "metadata": {},
   "source": [
    "### 什么也没有"
   ]
  }
 ],
 "metadata": {
  "kernelspec": {
   "display_name": "Python 3",
   "language": "python",
   "name": "python3"
  },
  "language_info": {
   "codemirror_mode": {
    "name": "ipython",
    "version": 3
   },
   "file_extension": ".py",
   "mimetype": "text/x-python",
   "name": "python",
   "nbconvert_exporter": "python",
   "pygments_lexer": "ipython3",
   "version": "3.6.3"
  }
 },
 "nbformat": 4,
 "nbformat_minor": 2
}
