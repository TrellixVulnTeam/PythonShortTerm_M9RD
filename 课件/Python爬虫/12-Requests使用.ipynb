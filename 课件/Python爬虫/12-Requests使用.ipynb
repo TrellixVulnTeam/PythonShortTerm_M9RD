{
 "cells": [
  {
   "cell_type": "code",
   "execution_count": 1,
   "metadata": {},
   "outputs": [
    {
     "name": "stdout",
     "output_type": "stream",
     "text": [
      "b'{\"message\":\"Hello there, wayfaring stranger. If you\\xe2\\x80\\x99re reading this then you probably didn\\xe2\\x80\\x99t see our blog post a couple of years back announcing that this API would go away: http://git.io/17AROg Fear not, you should be able to get what you need from the shiny new Events API instead.\",\"documentation_url\":\"https://developer.github.com/v3/activity/events/#list-public-events\"}'\n"
     ]
    }
   ],
   "source": [
    "# -*- coding:utf-8 -*-\n",
    "# Requests使用\n",
    "\n",
    "# Requests 是用Python语言编写，基于 urllib，采用 Apache2 Licensed 开源协议的 HTTP 库。\n",
    "# 它比 urllib 更加方便，可以节约我们大量的工作，完全满足 HTTP 测试需求\n",
    "# pip install requests\n",
    "\n",
    "\n",
    "import requests\n",
    "# 我们来获取 Github 的公共时间线：\n",
    "r = requests.get('https://github.com/timeline.json')\n",
    "# 现在，我们有一个名为 r 的 Response 对象。我们可以从这个对象中获取所有我们想要的信息。\n",
    "print(r.content)\n",
    "\n",
    "# Requests 简便的 API 意味着所有 HTTP 请求类型都是显而易见的。\n",
    "# 例如，你可以这样发送一个 HTTP POST 请求：\n",
    "r = requests.post(\"http://httpbin.org/post\")\n",
    "\n",
    "# 漂亮，对吧？那么其他 HTTP 请求类型：PUT，DELETE，HEAD 以及 OPTIONS 又是如何的呢？都是一样的简单：\n",
    "# >>> r = requests.put(\"http://httpbin.org/put\")\n",
    "# >>> r = requests.delete(\"http://httpbin.org/delete\")\n",
    "# >>> r = requests.head(\"http://httpbin.org/get\")\n",
    "# >>> r = requests.options(\"http://httpbin.org/get\")"
   ]
  },
  {
   "cell_type": "code",
   "execution_count": 2,
   "metadata": {},
   "outputs": [
    {
     "name": "stdout",
     "output_type": "stream",
     "text": [
      "http://httpbin.org/get?key1=value1&key2=value2\n",
      "http://httpbin.org/get?key1=value1&key2=value2&key2=value3\n"
     ]
    }
   ],
   "source": [
    "# -*- coding:utf-8 -*-\n",
    "# 传递 URL 参数\n",
    "# 你也许经常想为 URL 的查询字符串(query string)传递某种数据。\n",
    "# 如果你是手工构建 URL，那么数据会以键/值对的形式置于 URL 中，跟在一个问号的后面。\n",
    "# 例如， httpbin.org/get?key=val。 Requests 允许你使用 params 关键字参数，以一个字符串字典来提供这些参数。\n",
    "# 举例来说，如果你想传递 key1=value1 和 key2=value2 到 httpbin.org/get ，那么你可以使用如下代码：\n",
    "import requests\n",
    "payload = {'key1': 'value1', 'key2': 'value2'}\n",
    "r = requests.get(\"http://httpbin.org/get\", params=payload)\n",
    "print(r.url)\n",
    "# 注意字典里值为 None 的键都不会被添加到 URL 的查询字符串里。\n",
    "\n",
    "\n",
    "# 你还可以将一个列表作为值传入：\n",
    "payload = {'key1': 'value1', 'key2': ['value2', 'value3']}\n",
    "r = requests.get('http://httpbin.org/get', params=payload)\n",
    "print(r.url)"
   ]
  },
  {
   "cell_type": "code",
   "execution_count": 4,
   "metadata": {},
   "outputs": [
    {
     "name": "stdout",
     "output_type": "stream",
     "text": [
      "{\"message\":\"Hello there, wayfaring stranger. If you’re reading this then you probably didn’t see our blog post a couple of years back announcing that this API would go away: http://git.io/17AROg Fear not, you should be able to get what you need from the shiny new Events API instead.\",\"documentation_url\":\"https://developer.github.com/v3/activity/events/#list-public-events\"}\n",
      "utf-8\n",
      "ISO-8859-1\n"
     ]
    }
   ],
   "source": [
    "# -*- coding:utf-8 -*-\n",
    "import requests\n",
    "r = requests.get('https://github.com/timeline.json')\n",
    "print(r.text)\n",
    "\n",
    "# Requests 会自动解码来自服务器的内容。大多数 unicode 字符集都能被无缝地解码。\n",
    "# 请求发出后，Requests 会基于 HTTP 头部对响应的编码作出有根据的推测。\n",
    "# 当你访问 r.text 之时，Requests 会使用其推测的文本编码。\n",
    "# 你可以找出 Requests 使用了什么编码，并且能够使用 r.encoding 属性来改变它：\n",
    "\n",
    "print(r.encoding)\n",
    "r.encoding = 'ISO-8859-1'\n",
    "print(r.encoding)\n",
    "\n",
    "# 如果你改变了编码，每当你访问 r.text ，Request 都将会使用 r.encoding 的新值。你可能希望在使用特殊逻辑计算出文本的编码的情况下来修改编码。\n",
    "# 比如 HTTP 和 XML 自身可以指定编码。这样的话，你应该使用 r.content 来找到编码，然后设置 r.encoding 为相应的编码。这样就能使用正确的编码解析 r.text 了。\n",
    "#  在你需要的情况下，Requests 也可以使用定制的编码。\n",
    "# 如果你创建了自己的编码，并使用 codecs 模块进行注册，\n",
    "# 你就可以轻松地使用这个解码器名称作为 r.encoding 的值， 然后由 Requests 来为你处理编码"
   ]
  },
  {
   "cell_type": "code",
   "execution_count": 6,
   "metadata": {},
   "outputs": [
    {
     "name": "stdout",
     "output_type": "stream",
     "text": [
      "b'\\x89PNG\\r\\n\\x1a\\n\\x00\\x00\\x00\\rIHDR\\x00\\x00\\x006\\x00\\x00\\x00\\x1b\\x08\\x02\\x00\\x00\\x00\\xb8\\x15\\xebb\\x00\\x00\\x00\\tpHYs\\x00\\x00\\x0b\\x13\\x00\\x00\\x0b\\x13\\x01\\x00\\x9a\\x9c\\x18\\x00\\x00\\x02\\xa9IDATx\\x9c\\xed\\x96\\xbdO\\x13q\\x18\\xc7\\x9f{\\xfd]{\\x07w\\xb4G\\xaf\\xb4\\xb5\\xa2\\xd4\\xf0\\x12\\x12\\x82A&\\x94(!\\x0eFM\\x1c\\x8d\\x83\\x0eu\\xc0?@\\x13\\xdd\\xdc\\x8c\\x9b\\xab\\x89\\x83\\x83:h,\\x8b\\xc6\\x81\\x01\\x13\\x8d\\xc10 1\"*-\\xb9R\\x08}\\xe1h\\x8f{\\xe9\\xfd\\xee\\x1cM\\xdc\\xca\\x9dv\\x80\\xef\\xf8$\\xdf\\xe7\\xf9$\\xcf\\xef\\xf7<\\x0f111\\xa1\\xaa*\\xb4\\xa8[\\x10\\xeb\\x03\\xd4\\xaa\\xeb\\xe1m\\xa5U\\x0b\\x00\\xd0\\xaa\\xaa\\xe6\\xf3\\xf9\\x96m\\x80%\\x08\\xb7\\xea\\xdaB\\xa1V-\\x00@\\xee\\xc3\\xf3\\x9fu\\x88\\x18\\x84\\x0e\\x1e\"J\\x87\\x18\\x99\\r6\\'\\x1dH\\x16*L\\xc9W\\x93\\xc2\\x98\\xc8\\xc6\\x91\\xb9n\\x00\\xf6\\xcc\\xd5\\xbdJn\\xd3.\\x9a\\xfe\\x93\\x07\\x80\\xc8*(y\\xa7\\x8f\\x8e\\xb2$\"\\xcd\\xb5=\\xa7\\xd6d\\x93\\\\\\xecz*<\\xd2\\xd1X\\xd0\\xb6\\x1e\\xaf\\xb7\\x1f\\x11$ x\\xa2\\x9a\\xdb\\xd2\\xe6\\xcaN\\xadI\"\\xd2\\xb5\\\\VA\\xe9\\x07\\xfdL&\\x80\\xa6\\xfb}\\x8bt\\x14u\\xddM\\xea\\x9eUyYbd\\x96UP|\\xa674 4+v\\xe9u\\x1e\\'(\\xe9f\\xa2\\xcd\\x88bV\\xb1\\xf3Z\\xf3\\x8b\\r\\x00\\xd2tw\\xe6\\xc9\\x884-\\xf7\\xbf8\\xc9(\\x08/SN\\xd9\\xe0\\xce\\xf2T7\\xd56DR h\\x99\\xe3\\x8f\\xf5\\xec}\\xa8\\x11,\\x104\\xe1\\x1a\\x18\\xa5C\\xf6\\x86II\\xb4\\xf9\\xab\\xe6\\x1a\\xd8\\xfa\\xb9\\xcd\\x8d\\t\\xedC\\x8c\\x02\\x93B\\xb4h0\\\\\\xc7\\xf0\\x9bK\\xce\\xae\\xd3X\\xdc\\xfd\\x91]r-W8%\\r>\\xbfH\\xad\\xc9l\\x12\\xe8\\x13L\\xdb\\x10\\xf9\\xe1n2BZz\\x83KK\\x9e\\x8e\\x08\\xce\\x05\\xec\\x86\\x87\\x04sU\\xb7\\xd6\\x9dPFf$\\x91\\x8b\\x1f\\xa5\\x07\\x9c\\xb6!6>Vx\\xa9\\x8f\\x8bt\\xd47W\\xbe]\\x9b\\xa5X\\x96\\x1f\\x15\\xc5)94 \\xe8\\x9f\\xcbKS\\xcf:\\xcf\\xc5\\xb8N\\xc1Y\\xf4\\xd7+?f\\\\\\xc5\\xe5\\xf9E\\xa3\\xe2\\xf2\\x93=\\xae\\xd5\\xe42a\\\\wp\\xdd\\xb17\\xcc\\xc8\\xe58\\x95`v\\xe1\\xabV(\\xe9\\xf3\\x9a\\x9f*~\\xe7\\xa21\\xb7\\xa3d\\xc7\\xa93e:a\\x17\\x1f\\x15H\\x87$(\\xcf\\xd5\\x19aR\\x18|zc\\xfbS\\x0e\\xdb\\xa6\\xf3\\x1d\\xb7\\x13Q\\x7f\\xa75R;\\xec\\x85&a\\x0b\\xb1\\x99\\xe3\\x9ee\\xe1\\xb5\\x06\\xf4\\xd3\\xd0e\\x15\\xdf\\xe6P\\x8a\\xaf\\xde\\xf3\\xbb]\\xfc\\xceE\\xcf\\xf1j\\xb3\\xcb\\xa20\\x1a\\x19\\x8f\\x8aG\\x86b\\xa7\\xcfG\\xae(L\\xa4ai\\x85\\xf0\\x18]\\x7f\\xb5\\x81\\xcb\\x9e\\xcf\\x12\\x01,@\\x12Q\\xea\\xfd\\xf7FI\\xb5V\\x16\\xfe\\x04\\xbb<\\xa3\\xb7\\x08\\x94_>\\x08\\x04\\xd1,\\xd4\\xcdB\\xfd\\xaf\\xa0[#\\x8cZ\\x00g\\x0e\\x1c\\xc4\\x93\\xf6_\\xe8\\x101\\x08\\xed\\xf3\\xbbT\\x01oB\\xb3U\\x97S6\\xf6Q\\xeb7%`\\x05\\x1bJ\\xf5\\xa2\\x85\\x00\\x00\\x00\\x00IEND\\xaeB`\\x82'\n",
      "<PIL.PngImagePlugin.PngImageFile image mode=RGB size=54x27 at 0x685D9E8>\n"
     ]
    }
   ],
   "source": [
    "# -*- coding:utf-8 -*-\n",
    "# 二进制响应内容\n",
    "import requests\n",
    "#pip install pillow\n",
    "# Requests 会自动为你解码 gzip 和 deflate 传输编码的响应数据。\n",
    "# 例如，以请求返回的二进制数据创建一张图片，你可以使用如下代码：\n",
    "\n",
    "url=\"http://example.webscraping.com/places/static/images/flags/af.png\"\n",
    "r=requests.get(url)\n",
    "from PIL import Image\n",
    "from io import BytesIO\n",
    "print(r.content)\n",
    "i = Image.open(BytesIO(r.content))\n",
    "print(i)\n"
   ]
  },
  {
   "cell_type": "code",
   "execution_count": 8,
   "metadata": {},
   "outputs": [
    {
     "name": "stdout",
     "output_type": "stream",
     "text": [
      "{'message': 'Hello there, wayfaring stranger. If you’re reading this then you probably didn’t see our blog post a couple of years back announcing that this API would go away: http://git.io/17AROg Fear not, you should be able to get what you need from the shiny new Events API instead.', 'documentation_url': 'https://developer.github.com/v3/activity/events/#list-public-events'}\n"
     ]
    }
   ],
   "source": [
    "# -*- coding:utf-8 -*-\n",
    "# JSON 响应内容\n",
    "# Requests 中也有一个内置的 JSON 解码器，助你处理 JSON 数据：\n",
    "import requests\n",
    "\n",
    "r = requests.get('https://github.com/timeline.json')\n",
    "print(r.json())\n",
    "\n",
    "# 如果 JSON 解码失败， r.json() 就会抛出一个异常。\n",
    "# 例如，响应内容是 401 (Unauthorized)，\n",
    "# 尝试访问 r.json() 将会抛出 ValueError: No JSON object could be decoded 异常。\n",
    "\n",
    "# 需要注意的是，成功调用 r.json() 并**不**意味着响应的成功。\n",
    "# 有的服务器会在失败的响应中包含一个 JSON 对象（比如 HTTP 500 的错误细节）。\n",
    "# 这种 JSON 会被解码返回。要检查请求是否成功，\n",
    "# 请使用 r.raise_for_status() 或者检查 r.status_code 是否和你的期望相同。"
   ]
  },
  {
   "cell_type": "code",
   "execution_count": 9,
   "metadata": {},
   "outputs": [],
   "source": [
    "# -*- coding:utf-8 -*-\n",
    "# 定制请求头\n",
    "# 如果你想为请求添加 HTTP 头部，只要简单地传递一个 dict 给 headers 参数就可以了。\n",
    "# 例如，在前一个示例中我们没有指定 content-type:\n",
    "# >>> url = 'https://api.github.com/some/endpoint'\n",
    "headers = {'user-agent': 'my-app/0.0.1'}\n",
    "# r = requests.get(url, headers=headers)"
   ]
  },
  {
   "cell_type": "code",
   "execution_count": 11,
   "metadata": {},
   "outputs": [],
   "source": [
    "# -*- coding:utf-8 -*-\n",
    "# 更加复杂的 POST 请求\n",
    "# 通常，你想要发送一些编码为表单形式的数据——非常像一个 HTML 表单。\n",
    "# 要实现这个，只需简单地传递一个字典给 data 参数。\n",
    "# 你的数据字典在发出请求时会自动编码为表单形式：\n",
    "# payload = {'key1': 'value1', 'key2': 'value2'}\n",
    "# r = requests.post(\"http://httpbin.org/post\", data=payload)\n",
    "# print(r.text)\n",
    "\n",
    "# 你还可以为 data 参数传入一个元组列表。在表单中多个元素使用同一 key 的时候，这种方式尤其有效：\n",
    "# payload = (('key1', 'value1'), ('key1', 'value2'))\n",
    "# r = requests.post('http://httpbin.org/post', data=payload)\n",
    "# print(r.text)"
   ]
  },
  {
   "cell_type": "code",
   "execution_count": null,
   "metadata": {},
   "outputs": [],
   "source": [
    "# -*- coding:utf-8 -*-\n",
    "# requests 使用代理\n",
    "# 适用情况：限制IP地址情况，也可解决由于“频繁点击”而需要输入验证码登陆的情况。\n",
    "# 这种情况最好的办法就是维护一个代理IP池，网上有很多免费的代理IP，良莠不齐，可以通过筛选找到能用的。\n",
    "# 对于“频繁点击”的情况，我们还可以通过限制爬虫访问网站的频率来避免被网站禁掉。\n",
    "\n",
    "# proxies = {'http':'http://XX.XX.XX.XX:XXXX'}\n",
    "# import requests\n",
    "# response = requests.get(url=url, proxies=proxies)"
   ]
  }
 ],
 "metadata": {
  "kernelspec": {
   "display_name": "Python 3",
   "language": "python",
   "name": "python3"
  },
  "language_info": {
   "codemirror_mode": {
    "name": "ipython",
    "version": 3
   },
   "file_extension": ".py",
   "mimetype": "text/x-python",
   "name": "python",
   "nbconvert_exporter": "python",
   "pygments_lexer": "ipython3",
   "version": "3.6.3"
  }
 },
 "nbformat": 4,
 "nbformat_minor": 2
}
