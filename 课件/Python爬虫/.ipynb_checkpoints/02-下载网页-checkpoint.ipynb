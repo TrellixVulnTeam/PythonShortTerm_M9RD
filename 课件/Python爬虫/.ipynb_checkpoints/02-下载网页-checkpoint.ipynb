{
 "cells": [
  {
   "cell_type": "markdown",
   "metadata": {},
   "source": [
    "### 下载网页\n",
    "为了抓取网站,我们首先需要下载包含有感兴趣数据的网页,该过程一般被称为爬取（crawling）\n",
    "\n",
    "3种爬取网站的常见方法：\n",
    "· 爬取网站地图\n",
    "· 遍历每个网页的数据库ID;\n",
    "· 跟踪网页链接 。"
   ]
  },
  {
   "cell_type": "markdown",
   "metadata": {},
   "source": [
    "#### 下载网页,urllib 模块下载URL"
   ]
  },
  {
   "cell_type": "code",
   "execution_count": 3,
   "metadata": {},
   "outputs": [],
   "source": [
    "import urllib\n",
    "\n",
    "def download_v1(url):\n",
    "    return urllib.request.urlopen(url).read()"
   ]
  },
  {
   "cell_type": "markdown",
   "metadata": {},
   "source": [
    "#### 添加异常处理"
   ]
  },
  {
   "cell_type": "code",
   "execution_count": 5,
   "metadata": {},
   "outputs": [],
   "source": [
    "def download_v2(url):\n",
    "    print(\"Downloading!\")\n",
    "    try:\n",
    "        html=urllib.request.urlopen(url).read()\n",
    "    except urllib2.URLError as e:\n",
    "        print (\"url error:\",e.reason)\n",
    "        html=None\n",
    "    return html"
   ]
  },
  {
   "cell_type": "markdown",
   "metadata": {},
   "source": [
    "#### 添加尝试次数"
   ]
  },
  {
   "cell_type": "code",
   "execution_count": 16,
   "metadata": {},
   "outputs": [],
   "source": [
    "def download_v3(url,num_retries=2):\n",
    "    print(\"Downloading!\")\n",
    "    try:\n",
    "        html=urllib.request.urlopen(url).read()\n",
    "    except urllib.error.URLError as e:\n",
    "        print(\"url error:\",e.reason)\n",
    "        html=None\n",
    "        if num_retries>0:\n",
    "            #如果服务器返回的是404 Not Found 这种错误， 则说明该网页目\n",
    "            # 前并不存在，再次尝试 同样的请求一般 也不会出现不同的结果\n",
    "            # 互联网工程任务组定义了HTTP错误的完整列表\n",
    "            # 我们可以了解到4xx 错误发生在请求存在问题时，\n",
    "            # 而5xx 错误则发生在服务端存在问题时\n",
    "            if hasattr(e,'code') and 500 <= e.code < 600:\n",
    "                return download_v3(url,num_retries-1)\n",
    "    return html"
   ]
  },
  {
   "cell_type": "code",
   "execution_count": 17,
   "metadata": {},
   "outputs": [
    {
     "name": "stdout",
     "output_type": "stream",
     "text": [
      "Downloading!\n"
     ]
    },
    {
     "data": {
      "text/plain": [
       "b'<html>\\n<meta http-equiv=\"refresh\" content=\"0;url=http://www.baidu.com/\">\\n</html>\\n'"
      ]
     },
     "execution_count": 17,
     "metadata": {},
     "output_type": "execute_result"
    }
   ],
   "source": [
    "download_v3(\"http://baidu.com\")"
   ]
  },
  {
   "cell_type": "code",
   "execution_count": 18,
   "metadata": {},
   "outputs": [
    {
     "name": "stdout",
     "output_type": "stream",
     "text": [
      "Downloading!\n",
      "url error: Internal Server Error\n",
      "Downloading!\n",
      "url error: Internal Server Error\n",
      "Downloading!\n",
      "url error: Internal Server Error\n"
     ]
    }
   ],
   "source": [
    "download_v3(\"http://httpstat.us/500\")"
   ]
  },
  {
   "cell_type": "code",
   "execution_count": null,
   "metadata": {},
   "outputs": [],
   "source": []
  }
 ],
 "metadata": {
  "kernelspec": {
   "display_name": "Python 3",
   "language": "python",
   "name": "python3"
  }
 },
 "nbformat": 4,
 "nbformat_minor": 2
}
