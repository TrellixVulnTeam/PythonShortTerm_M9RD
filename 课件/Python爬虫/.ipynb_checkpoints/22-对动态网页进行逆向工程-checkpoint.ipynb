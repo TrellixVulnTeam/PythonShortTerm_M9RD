{
 "cells": [
  {
   "cell_type": "markdown",
   "metadata": {},
   "source": [
    "查看\n",
    "\n",
    "http://example.webscraping.com/places/default/search\n",
    "\n",
    "网页源码，找到ajax请求"
   ]
  },
  {
   "cell_type": "raw",
   "metadata": {},
   "source": [
    "\n",
    "function search() {\n",
    "    var data = {\n",
    "        search_term: $(\"#search_term\").val(),\n",
    "        page_size: parseInt($(\"#page_size\").val()),\n",
    "        page: page,\n",
    "    };\n",
    "    //window.location.hash = data.search_term + '|' + data.page_size + '|' + page;\n",
    "\n",
    "    $.ajax({\n",
    "        dataType: \"json\",\n",
    "        url: \"/places/ajax/search.json?\",\n",
    "        data: data,\n",
    "        success: function(results) {\n",
    "            render(results)\n",
    "        }\n",
    "    });\n",
    "}"
   ]
  },
  {
   "cell_type": "code",
   "execution_count": null,
   "metadata": {
    "scrolled": true
   },
   "outputs": [],
   "source": [
    "# 这个AJAX 数据不仅可以在搜索网页时访问到，也可以直接下载，\n",
    "\n",
    "import requests\n",
    "\n",
    "html = requests.get('http://example.webscraping.com/places/ajax/search.json?page=0&page_size=10&search_term=a')\n",
    "print html.text\n",
    "\n",
    "# AJAX 响应返回的数据是JSON 格式的，因此我们可以使用Python的json\n",
    "# 模块将其解析成一个字典\n",
    "import json\n",
    "content =json.loads(html.text)\n",
    "print content"
   ]
  }
 ],
 "metadata": {
  "kernelspec": {
   "display_name": "Python 2",
   "language": "python",
   "name": "python2"
  },
  "language_info": {
   "codemirror_mode": {
    "name": "ipython",
    "version": 2
   },
   "file_extension": ".py",
   "mimetype": "text/x-python",
   "name": "python",
   "nbconvert_exporter": "python",
   "pygments_lexer": "ipython2",
   "version": "2.7.13"
  }
 },
 "nbformat": 4,
 "nbformat_minor": 2
}
