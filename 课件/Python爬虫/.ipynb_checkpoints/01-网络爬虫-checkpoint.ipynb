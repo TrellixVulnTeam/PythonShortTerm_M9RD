{
 "cells": [
  {
   "cell_type": "markdown",
   "metadata": {},
   "source": [
    "### 网络爬虫\n",
    "网络爬虫（又被称为网页蜘蛛，网络机器人，在FOAF社区中间，更经常的称为网页追逐者），是一种按照一定的规则，自动地抓取万维网信息的程序或者脚本。另外一些不常使用的名字还有蚂蚁、自动索引、模拟程序或者蠕虫。"
   ]
  },
  {
   "cell_type": "raw",
   "metadata": {},
   "source": [
    "查找网站所有者\n",
    "pip install python-whois"
   ]
  },
  {
   "cell_type": "code",
   "execution_count": null,
   "metadata": {},
   "outputs": [],
   "source": [
    "import whois\n",
    "\n",
    "print(whois.whois(\"appsport.com\"))"
   ]
  },
  {
   "cell_type": "markdown",
   "metadata": {},
   "source": [
    "#### 案例网站搭建"
   ]
  },
  {
   "cell_type": "raw",
   "metadata": {},
   "source": [
    "1、解压：web2py_win\n",
    "2、解压：python爬虫示例网站\n",
    "3、将第二步解压出来的东西放到第一步解压出来的web2py/application目录下\n",
    "4、在命令行cmd里面输入：\n",
    "net stop http\n",
    "sc config http start= disabled  //禁用服务的自动启动，此处注意等号后面的空格不可少\n",
    "\n",
    "5、修改C:\\Windows\\System32\\drivers\\etc 下的hosts文件，添加如下内容：\n",
    "127.0.0.1 example.webscraping.com\n",
    "6 在第一步解压出来的文件中找到web2py.exe执行，监听端口设置为80"
   ]
  }
 ],
 "metadata": {
  "kernelspec": {
   "display_name": "Python 2",
   "language": "python",
   "name": "python2"
  },
  "language_info": {
   "codemirror_mode": {
    "name": "ipython",
    "version": 2
   },
   "file_extension": ".py",
   "mimetype": "text/x-python",
   "name": "python",
   "nbconvert_exporter": "python",
   "pygments_lexer": "ipython2",
   "version": "2.7.13"
  }
 },
 "nbformat": 4,
 "nbformat_minor": 2
}
