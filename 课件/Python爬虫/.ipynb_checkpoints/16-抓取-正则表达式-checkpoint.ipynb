{
 "cells": [
  {
   "cell_type": "markdown",
   "metadata": {},
   "source": [
    "使用Firebug 查看页面元素"
   ]
  },
  {
   "cell_type": "code",
   "execution_count": 4,
   "metadata": {},
   "outputs": [
    {
     "name": "stdout",
     "output_type": "stream",
     "text": [
      "Downloading! http://example.webscraping.com/places/default/view/Ethiopia-71\n",
      "['<img src=\"/places/static/images/flags/et.png\" />', '1127127 square kilometres', '88013491', 'ET', 'Ethiopia', 'Addis Ababa', '<a href=\"/places/default/continent/AF\">AF</a>', '.et', 'ETB', 'Birr', '251', '####', '^(\\\\d{4})$', 'am,en-ET,om-ET,ti-ET,so-ET,sid', '<div><a href=\"/places/default/iso/ER\">ER </a><a href=\"/places/default/iso/KE\">KE </a><a href=\"/places/default/iso/SD\">SD </a><a href=\"/places/default/iso/SS\">SS </a><a href=\"/places/default/iso/SO\">SO </a><a href=\"/places/default/iso/DJ\">DJ </a></div>']\n",
      "1127127 square kilometres\n"
     ]
    }
   ],
   "source": [
    "import  urllib\n",
    "def download(url, user_agent='Mozilla/5.0' ,num_retries=2 ):\n",
    "    print(\"Downloading!\",url)\n",
    "    headers = {\"User-agent\":user_agent}\n",
    "    request = urllib.request.Request(url,headers=headers)\n",
    "\n",
    "    try:\n",
    "        html=urllib.request.urlopen(request).read()\n",
    "    except urllib2.URLError as e:\n",
    "        print(\"url error:\",e.reason)\n",
    "        html=None\n",
    "        if num_retries > 0:\n",
    "            if hasattr(e,'code') and 500 <= e.code < 600:\n",
    "                return download(url,user_agent,num_retries-1)\n",
    "    return html.decode('utf-8')\n",
    "\n",
    "\n",
    "import re\n",
    "url = \"http://example.webscraping.com/places/default/view/Ethiopia-71\"\n",
    "html = download(url)\n",
    "# 多个国家属性都使用了 <td class=\"w2p_fw\">标签\n",
    "content =re.findall('<td class=\"w2p_fw\">(.*?)</td>', html)\n",
    "print(content)\n",
    "\n",
    "# 分离出面积\n",
    "print(content[1])"
   ]
  }
 ],
 "metadata": {
  "kernelspec": {
   "display_name": "Python 3",
   "language": "python",
   "name": "python3"
  },
  "language_info": {
   "codemirror_mode": {
    "name": "ipython",
    "version": 3
   },
   "file_extension": ".py",
   "mimetype": "text/x-python",
   "name": "python",
   "nbconvert_exporter": "python",
   "pygments_lexer": "ipython3",
   "version": "3.6.3"
  }
 },
 "nbformat": 4,
 "nbformat_minor": 2
}
