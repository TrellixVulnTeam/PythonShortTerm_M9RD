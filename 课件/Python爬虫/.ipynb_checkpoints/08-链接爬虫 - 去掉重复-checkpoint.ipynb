{
 "cells": [
  {
   "cell_type": "code",
   "execution_count": 3,
   "metadata": {},
   "outputs": [],
   "source": [
    "import  urllib\n",
    "def download(url, user_agent='Mozilla/5.0' ,num_retries=2 ):\n",
    "    print(\"Downloading!\",url)\n",
    "    headers = {\"User-agent\":user_agent}\n",
    "    request = urllib.request.Request(url,headers=headers)\n",
    "\n",
    "    try:\n",
    "        html=urllib.request.urlopen(request).read()\n",
    "    except urllib.request.URLError as e:\n",
    "        print(\"url error:\",e.reason)\n",
    "        html=None\n",
    "        if num_retries > 0:\n",
    "            if hasattr(e,'code') and 500 <= e.code < 600:\n",
    "                return download(url,user_agent,num_retries-1)\n",
    "    return html.decode('utf-8')\n",
    "\n",
    "\n",
    "import re\n",
    "from urllib.parse import urlparse,urljoin\n",
    "\n",
    "def get_links(html):\n",
    "    webpage_regex = re.compile('<a[^>]+href=[\"\\'](.*?)[\"\\']',re.IGNORECASE)\n",
    "    return webpage_regex.findall(html)"
   ]
  },
  {
   "cell_type": "code",
   "execution_count": null,
   "metadata": {
    "scrolled": true
   },
   "outputs": [
    {
     "name": "stdout",
     "output_type": "stream",
     "text": [
      "Downloading! http://example.webscraping.com/places/\n",
      "Downloading! http://example.webscraping.com/places/default/index/1\n",
      "Downloading! http://example.webscraping.com/places/default/index/2\n",
      "Downloading! http://example.webscraping.com/places/default/index/3\n",
      "Downloading! http://example.webscraping.com/places/default/index/4\n",
      "Downloading! http://example.webscraping.com/places/default/index/5\n",
      "Downloading! http://example.webscraping.com/places/default/index/6\n",
      "Downloading! http://example.webscraping.com/places/default/index/7\n"
     ]
    }
   ],
   "source": [
    "\n",
    "def link_crawler(seed_url,link_regex):\n",
    "    # 爬取队列\n",
    "    crawl_queue=[seed_url]\n",
    "# **********************************************************\n",
    "# *************************更新区域*************************\n",
    "# **********************************************************\n",
    "    seen = set(crawl_queue)\n",
    "# **********************************************************\n",
    "# *************************更新区域*************************\n",
    "# **********************************************************\n",
    "    while crawl_queue:\n",
    "        url = crawl_queue.pop()\n",
    "        html = download(url)\n",
    "        for link in get_links(html):\n",
    "            if re.match(link_regex,link):\n",
    "                link = urljoin(seed_url,link)\n",
    "# **********************************************************\n",
    "# *************************更新区域*************************\n",
    "# **********************************************************\n",
    "                if link not  in seen:\n",
    "                    seen.add(link)\n",
    "                    crawl_queue.append(link)\n",
    "# **********************************************************\n",
    "# *************************更新区域*************************\n",
    "# **********************************************************\n",
    "\n",
    "link_crawler(\"http://example.webscraping.com/places/\",\"/places/default/(index|view)\")"
   ]
  },
  {
   "cell_type": "markdown",
   "metadata": {},
   "source": [
    "当你运行这段代码时，会发现虽然网页下载没有出现错误，但是同样的地点总是会被不断下载到。这是因为这些地点相互之间存在链接。\n",
    "\n",
    "比如， 澳大利亚链接到了南极洲，而南极洲也存在到澳大利亚的链接，此时爬虫就会在它们之间不断循环下去。 要想避免重复爬取相同的链接，我们需要记录哪些链接己经被爬取过。"
   ]
  }
 ],
 "metadata": {
  "kernelspec": {
   "display_name": "Python 3",
   "language": "python",
   "name": "python3"
  },
  "language_info": {
   "codemirror_mode": {
    "name": "ipython",
    "version": 3
   },
   "file_extension": ".py",
   "mimetype": "text/x-python",
   "name": "python",
   "nbconvert_exporter": "python",
   "pygments_lexer": "ipython3",
   "version": "3.6.3"
  }
 },
 "nbformat": 4,
 "nbformat_minor": 2
}
