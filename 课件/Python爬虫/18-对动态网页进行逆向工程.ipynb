{
 "cells": [
  {
   "cell_type": "markdown",
   "metadata": {},
   "source": [
    "查看\n",
    "\n",
    "http://example.webscraping.com/places/default/search\n",
    "\n",
    "网页源码，找到ajax请求"
   ]
  },
  {
   "cell_type": "raw",
   "metadata": {},
   "source": [
    "\n",
    "function search() {\n",
    "    var data = {\n",
    "        search_term: $(\"#search_term\").val(),\n",
    "        page_size: parseInt($(\"#page_size\").val()),\n",
    "        page: page,\n",
    "    };\n",
    "    //window.location.hash = data.search_term + '|' + data.page_size + '|' + page;\n",
    "\n",
    "    $.ajax({\n",
    "        dataType: \"json\",\n",
    "        url: \"/places/ajax/search.json?\",\n",
    "        data: data,\n",
    "        success: function(results) {\n",
    "            render(results)\n",
    "        }\n",
    "    });\n",
    "}"
   ]
  },
  {
   "cell_type": "code",
   "execution_count": 3,
   "metadata": {
    "scrolled": true
   },
   "outputs": [
    {
     "name": "stdout",
     "output_type": "stream",
     "text": [
      "{\"records\": [{\"pretty_link\": \"<div><a href=\\\"/places/default/view/Afghanistan-1\\\"><img src=\\\"/places/static/images/flags/af.png\\\" /> Afghanistan</a></div>\", \"country\": \"Afghanistan\", \"id\": 16885}, {\"pretty_link\": \"<div><a href=\\\"/places/default/view/Aland-Islands-2\\\"><img src=\\\"/places/static/images/flags/ax.png\\\" /> Aland Islands</a></div>\", \"country\": \"Aland Islands\", \"id\": 16886}, {\"pretty_link\": \"<div><a href=\\\"/places/default/view/Albania-3\\\"><img src=\\\"/places/static/images/flags/al.png\\\" /> Albania</a></div>\", \"country\": \"Albania\", \"id\": 16887}, {\"pretty_link\": \"<div><a href=\\\"/places/default/view/Algeria-4\\\"><img src=\\\"/places/static/images/flags/dz.png\\\" /> Algeria</a></div>\", \"country\": \"Algeria\", \"id\": 16888}, {\"pretty_link\": \"<div><a href=\\\"/places/default/view/American-Samoa-5\\\"><img src=\\\"/places/static/images/flags/as.png\\\" /> American Samoa</a></div>\", \"country\": \"American Samoa\", \"id\": 16889}, {\"pretty_link\": \"<div><a href=\\\"/places/default/view/Andorra-6\\\"><img src=\\\"/places/static/images/flags/ad.png\\\" /> Andorra</a></div>\", \"country\": \"Andorra\", \"id\": 16890}, {\"pretty_link\": \"<div><a href=\\\"/places/default/view/Angola-7\\\"><img src=\\\"/places/static/images/flags/ao.png\\\" /> Angola</a></div>\", \"country\": \"Angola\", \"id\": 16891}, {\"pretty_link\": \"<div><a href=\\\"/places/default/view/Anguilla-8\\\"><img src=\\\"/places/static/images/flags/ai.png\\\" /> Anguilla</a></div>\", \"country\": \"Anguilla\", \"id\": 16892}, {\"pretty_link\": \"<div><a href=\\\"/places/default/view/Antarctica-9\\\"><img src=\\\"/places/static/images/flags/aq.png\\\" /> Antarctica</a></div>\", \"country\": \"Antarctica\", \"id\": 16893}, {\"pretty_link\": \"<div><a href=\\\"/places/default/view/Antigua-and-Barbuda-10\\\"><img src=\\\"/places/static/images/flags/ag.png\\\" /> Antigua and Barbuda</a></div>\", \"country\": \"Antigua and Barbuda\", \"id\": 16894}], \"num_pages\": 22, \"error\": \"\"}\n",
      "\n",
      "{'records': [{'pretty_link': '<div><a href=\"/places/default/view/Afghanistan-1\"><img src=\"/places/static/images/flags/af.png\" /> Afghanistan</a></div>', 'country': 'Afghanistan', 'id': 16885}, {'pretty_link': '<div><a href=\"/places/default/view/Aland-Islands-2\"><img src=\"/places/static/images/flags/ax.png\" /> Aland Islands</a></div>', 'country': 'Aland Islands', 'id': 16886}, {'pretty_link': '<div><a href=\"/places/default/view/Albania-3\"><img src=\"/places/static/images/flags/al.png\" /> Albania</a></div>', 'country': 'Albania', 'id': 16887}, {'pretty_link': '<div><a href=\"/places/default/view/Algeria-4\"><img src=\"/places/static/images/flags/dz.png\" /> Algeria</a></div>', 'country': 'Algeria', 'id': 16888}, {'pretty_link': '<div><a href=\"/places/default/view/American-Samoa-5\"><img src=\"/places/static/images/flags/as.png\" /> American Samoa</a></div>', 'country': 'American Samoa', 'id': 16889}, {'pretty_link': '<div><a href=\"/places/default/view/Andorra-6\"><img src=\"/places/static/images/flags/ad.png\" /> Andorra</a></div>', 'country': 'Andorra', 'id': 16890}, {'pretty_link': '<div><a href=\"/places/default/view/Angola-7\"><img src=\"/places/static/images/flags/ao.png\" /> Angola</a></div>', 'country': 'Angola', 'id': 16891}, {'pretty_link': '<div><a href=\"/places/default/view/Anguilla-8\"><img src=\"/places/static/images/flags/ai.png\" /> Anguilla</a></div>', 'country': 'Anguilla', 'id': 16892}, {'pretty_link': '<div><a href=\"/places/default/view/Antarctica-9\"><img src=\"/places/static/images/flags/aq.png\" /> Antarctica</a></div>', 'country': 'Antarctica', 'id': 16893}, {'pretty_link': '<div><a href=\"/places/default/view/Antigua-and-Barbuda-10\"><img src=\"/places/static/images/flags/ag.png\" /> Antigua and Barbuda</a></div>', 'country': 'Antigua and Barbuda', 'id': 16894}], 'num_pages': 22, 'error': ''}\n"
     ]
    }
   ],
   "source": [
    "# 这个AJAX 数据不仅可以在搜索网页时访问到，也可以直接下载，\n",
    "\n",
    "import requests\n",
    "\n",
    "html = requests.get('http://example.webscraping.com/places/ajax/search.json?page=0&page_size=10&search_term=a')\n",
    "print(html.text)\n",
    "\n",
    "# AJAX 响应返回的数据是JSON 格式的，因此我们可以使用Python的json\n",
    "# 模块将其解析成一个字典\n",
    "import json\n",
    "content =json.loads(html.text)\n",
    "print(content)"
   ]
  },
  {
   "cell_type": "code",
   "execution_count": null,
   "metadata": {},
   "outputs": [],
   "source": []
  }
 ],
 "metadata": {
  "kernelspec": {
   "display_name": "Python 3",
   "language": "python",
   "name": "python3"
  },
  "language_info": {
   "codemirror_mode": {
    "name": "ipython",
    "version": 3
   },
   "file_extension": ".py",
   "mimetype": "text/x-python",
   "name": "python",
   "nbconvert_exporter": "python",
   "pygments_lexer": "ipython3",
   "version": "3.6.3"
  }
 },
 "nbformat": 4,
 "nbformat_minor": 2
}
