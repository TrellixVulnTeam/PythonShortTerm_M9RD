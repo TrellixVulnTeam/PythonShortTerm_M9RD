{
 "cells": [
  {
   "cell_type": "markdown",
   "metadata": {},
   "source": [
    "解析robots.txt文件，以避免下载禁止爬取的URL。"
   ]
  },
  {
   "cell_type": "code",
   "execution_count": 4,
   "metadata": {
    "scrolled": true
   },
   "outputs": [
    {
     "name": "stdout",
     "output_type": "stream",
     "text": [
      "False\n",
      "True\n"
     ]
    }
   ],
   "source": [
    "from urllib import  robotparser\n",
    "rp = robotparser.RobotFileParser()\n",
    "# rp.set_url(\"http://www.baidu.com/robots.txt\")\n",
    "rp.set_url(\"http://example.webscraping.com/places/static/robots.txt\")\n",
    "rp.read()\n",
    "\n",
    "user_agent = 'BadCrawler'\n",
    "url = \"http://example.webscraping.com\"\n",
    "\n",
    "# robotparser 模块首先加载robots.txt 文件，然后通过can_fetch()\n",
    "# 函数确定指定的用户代理是否允许访问网页。\n",
    "print(rp.can_fetch(user_agent,url))\n",
    "\n",
    "user_agent= 'Googlebot'\n",
    "\n",
    "print(rp.can_fetch(user_agent,url))"
   ]
  },
  {
   "cell_type": "raw",
   "metadata": {},
   "source": [
    "百度robots.txt文件:\n",
    "https://www.baidu.com/robots.txt\n",
    "\n",
    "一个网站为什么要写robots.txt，主要有四点：\n",
    "1、保护网站安全\n",
    "2、节省流量\n",
    "3、禁止搜索引擎收录部分页面\n",
    "4、引导蜘蛛爬网站地图\n",
    "\n",
    "二、robots.txt的写法与步骤\n",
    "\n",
    "1、定义搜索引擎\n",
    "用User-agent：来定义搜索引擎，其中*表示所有，Baiduspider表示百度蜘蛛，Googlebot表示谷歌蜘蛛。\n",
    "也就是说User-agent：*表示定义所有蜘蛛，User-agent：Baiduspider表示定义百度蜘蛛。\n",
    "\n",
    "2、禁止与允许访问\n",
    "\n",
    "Disallow: /表示禁止访问，Allow: /表示允许访问。\n",
    "在写robots.txt时需特别注意的是，/前面有一个英文状态下的空格（必须是英文状态下的空格）。\n",
    "\n",
    "3、禁止搜索引擎访问网站中的某几个文件夹，以a、b、c为例，写法分别如下：\n",
    "\n",
    "Disallow: /a/\n",
    "Disallow: /b/\n",
    "Disallow: /c/\n",
    "\n",
    "3、禁止搜索引擎访问文件夹中的某一类文件，以a文件夹中的js文件为例，写法如下：\n",
    "Disallow: /a/*.js\n",
    "\n",
    "4、只允许某个搜索引擎访问，以Baiduspider为例，写法如下：\n",
    "User-agent: Baiduspider\n",
    "Disallow:\n",
    "\n",
    "5、禁止访问网站中的动态页面\n",
    "\n",
    "User-agent: *\n",
    "Disallow: /*?*\n",
    "\n",
    "6、只允许搜索引擎访问某类文件，以htm为例，写法如下：\n",
    "\n",
    "User-agent: *\n",
    "Allow: .htm$\n",
    "Disallow: /\n",
    "\n",
    "7、禁止某个搜索引擎抓取网站上的所有图片，以Baiduspider为例，写法如下：\n",
    "\n",
    "User-agent: F\n",
    "Disallow: .jpg$\n",
    "Disallow: .jpeg$\n",
    "Disallow: .gif$\n",
    "Disallow: .png$\n",
    "Disallow: .bmp$\n",
    "\n",
    "三、robots.txt文件存放位置\n",
    "robots.txt文件存放在网站根目录下，并且文件名所有字母都必须小写。\n",
    "\n",
    "四、特别注意事项\n",
    "\n",
    "在写robots.txt文件时语法一定要用对，User-agent、Disallow、Allow、Sitemap这些词都必须是第一个字母大写，后面的字母小写，\n",
    "而且在:后面必须带一个英文字符下的空格。网站上线之前切记写robots.txt文件禁止蜘蛛访问网站，如果不会写就先了解清楚写法之\n",
    "后再写，以免给网站收录带来不必要的麻烦。robots.txt文件生效时间在几天至一个月之间，站长自身无法控制。但是，站长可以在\n",
    "百度统计中查看网站robots.txt文件是否生效。"
   ]
  }
 ],
 "metadata": {
  "kernelspec": {
   "display_name": "Python 3",
   "language": "python",
   "name": "python3"
  },
  "language_info": {
   "codemirror_mode": {
    "name": "ipython",
    "version": 3
   },
   "file_extension": ".py",
   "mimetype": "text/x-python",
   "name": "python",
   "nbconvert_exporter": "python",
   "pygments_lexer": "ipython3",
   "version": "3.6.3"
  }
 },
 "nbformat": 4,
 "nbformat_minor": 2
}
