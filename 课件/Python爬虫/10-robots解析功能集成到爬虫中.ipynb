{
 "cells": [
  {
   "cell_type": "code",
   "execution_count": 3,
   "metadata": {},
   "outputs": [],
   "source": [
    "import  urllib\n",
    "def download(url, user_agent='Mozilla/5.0' ,num_retries=2 ):\n",
    "    print(\"Downloading!\",url)\n",
    "    headers = {\"User-agent\":user_agent}\n",
    "    request = urllib.request.Request(url,headers=headers)\n",
    "\n",
    "    try:\n",
    "        html=urllib.request.urlopen(request).read()\n",
    "    except urllib.request.URLError as e:\n",
    "        print(\"url error:\",e.reason)\n",
    "        html=None\n",
    "        if num_retries > 0:\n",
    "            if hasattr(e,'code') and 500 <= e.code < 600:\n",
    "                return download(url,user_agent,num_retries-1)\n",
    "    return html\n",
    "\n",
    "\n",
    "import re\n",
    "from urllib.parse import urlparse,urljoin\n",
    "from urllib import  robotparser\n",
    "\n",
    "\n",
    "def get_links(html):\n",
    "    webpage_regex = re.compile('<a[^>]+href=[\"\\'](.*?)[\"\\']',re.IGNORECASE)\n",
    "    return webpage_regex.findall(html)"
   ]
  },
  {
   "cell_type": "code",
   "execution_count": 5,
   "metadata": {},
   "outputs": [],
   "source": [
    "\n",
    "def link_crawler(user_agent,seed_url,link_regex):\n",
    "    # 爬取队列\n",
    "    crawl_queue=[seed_url]\n",
    "    seen = set(crawl_queue)\n",
    "\n",
    "# **********************************************************\n",
    "# *************************更新区域*************************\n",
    "# **********************************************************\n",
    "    rp = robotparser.RobotFileParser()\n",
    "# **********************************************************\n",
    "# *************************更新区域*************************\n",
    "# **********************************************************\n",
    "\n",
    "    while crawl_queue:\n",
    "        url = crawl_queue.pop()\n",
    "\n",
    "# **********************************************************\n",
    "# *************************更新区域*************************\n",
    "# **********************************************************\n",
    "        if rp.can_fetch(user_agent,url):\n",
    "# **********************************************************\n",
    "# *************************更新区域*************************\n",
    "# **********************************************************\n",
    "            html = download(url,user_agent)\n",
    "            for link in get_links(html):\n",
    "                if re.match(link_regex,link):\n",
    "                    link = urlparse.urljoin(seed_url,link)\n",
    "                    if link not  in seen:\n",
    "                        seen.add(link)\n",
    "                        crawl_queue.append(link)\n",
    "# **********************************************************\n",
    "# *************************更新区域*************************\n",
    "# **********************************************************\n",
    "        else:\n",
    "            print(\"该路径被禁止\")\n",
    "\n",
    "# **********************************************************\n",
    "# *************************更新区域*************************\n",
    "# **********************************************************"
   ]
  },
  {
   "cell_type": "code",
   "execution_count": null,
   "metadata": {},
   "outputs": [],
   "source": []
  }
 ],
 "metadata": {
  "kernelspec": {
   "display_name": "Python 3",
   "language": "python",
   "name": "python3"
  },
  "language_info": {
   "codemirror_mode": {
    "name": "ipython",
    "version": 3
   },
   "file_extension": ".py",
   "mimetype": "text/x-python",
   "name": "python",
   "nbconvert_exporter": "python",
   "pygments_lexer": "ipython3",
   "version": "3.6.3"
  }
 },
 "nbformat": 4,
 "nbformat_minor": 2
}
